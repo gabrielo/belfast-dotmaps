{
 "cells": [
  {
   "cell_type": "code",
   "execution_count": 345,
   "metadata": {},
   "outputs": [],
   "source": [
    "import array, csv, json, math\n",
    "from osgeo import ogr\n",
    "from random import randint, random, shuffle, uniform\n",
    "from shapely.geometry import shape, Point, Polygon\n",
    "\n",
    "def LonLatToPixelXY(lonlat):\n",
    "    (lon, lat) = lonlat\n",
    "    x = (lon + 180.0) * 256.0 / 360.0\n",
    "    y = 128.0 - math.log(math.tan((lat + 90.0) * math.pi / 360.0)) * 128.0 / math.pi\n",
    "    return [x, y]\n",
    "\n",
    "def RandomPointFromPolygocn(geom):\n",
    "    polygon = shape(geom)\n",
    "    bbox = polygon.bounds\n",
    "    l,b,r,t = bbox\n",
    "    while True:\n",
    "        point = Point(uniform(l,r),uniform(t,b))\n",
    "        if point is None:\n",
    "            break\n",
    "        if polygon.contains(point):\n",
    "            break\n",
    "    return point.__geo_interface__['coordinates']"
   ]
  },
  {
   "cell_type": "code",
   "execution_count": null,
   "metadata": {
    "collapsed": true
   },
   "outputs": [],
   "source": [
    "# Transform NI Small Areas shapefile into GeoJSON\n",
    "cmd = \"ogr2ogr -f GeoJSON -t_srs crs:84 SA2011/SA2011.geojson SA2011/SA2011.shp\"\n",
    "!$cmd"
   ]
  },
  {
   "cell_type": "code",
   "execution_count": null,
   "metadata": {
    "collapsed": true
   },
   "outputs": [],
   "source": [
    "# Load small areas GeoJSON file\n",
    "with open(\"SA2011/SA2011.geojson\") as f:\n",
    "    sa2011 = json.load(f)"
   ]
  },
  {
   "cell_type": "code",
   "execution_count": null,
   "metadata": {},
   "outputs": [],
   "source": [
    "#sa2011['features'][0]['properties']\n",
    "#{u'Hectares': 169.044,\n",
    "# u'SA2011': u'N00000002',\n",
    "# u'SOA2011': u'95AA01S2',\n",
    "# u'X_COORD': 315465.0,\n",
    "# u'Y_COORD': 377176.0}"
   ]
  },
  {
   "cell_type": "code",
   "execution_count": null,
   "metadata": {},
   "outputs": [],
   "source": [
    "belfastData = []\n",
    "with open(\"Geographic Data (statistical geographies).ods - SA.csv\") as csvfile:\n",
    "    reader = csv.DictReader(csvfile)\n",
    "    for row in reader:\n",
    "        if row['HSCT'] == \"Belfast HSCT\":\n",
    "            belfastData.append(row)"
   ]
  },
  {
   "cell_type": "code",
   "execution_count": null,
   "metadata": {},
   "outputs": [],
   "source": [
    "#belfastData[0]\n",
    "#{'AA1998': 'BELFAST WEST',\n",
    "# 'AA2008': 'BELFAST WEST',\n",
    "# 'HSCT': 'Belfast HSCT',\n",
    "# 'LGD1992NAME': 'BELFAST',\n",
    "# 'SA': 'N00000825',\n",
    "# 'SOA': '95GG01S1',\n",
    "# 'SQ Km': '0.11',\n",
    "# 'Settlement2015(1)': 'BELFAST CITY',\n",
    "# 'Settlement2015(2)': '',\n",
    "# 'Settlement2015(3)': '',\n",
    "# 'URBAN_RURAL(2015)': 'Urban',\n",
    "# 'WARD1992': 'ANDERSONSTOWN'}"
   ]
  },
  {
   "cell_type": "code",
   "execution_count": null,
   "metadata": {},
   "outputs": [],
   "source": [
    "belfastGeoJSON = { \n",
    "    \"type\": \"FeatureCollection\",\n",
    "    \"features\": []\n",
    "}\n",
    "for row in belfastData:\n",
    "    sa = row['SA']\n",
    "    for feature in sa2011['features']:\n",
    "        if feature['properties']['SA2011'] == sa:\n",
    "            for key in row.keys():\n",
    "                feature['properties'][key] = row[key]\n",
    "            belfastGeoJSON['features'].append(feature)\n",
    "            break\n",
    "with open('belfast.geojson', 'w') as outfile:  \n",
    "    json.dump(belfastGeoJSON, outfile, indent=4)"
   ]
  },
  {
   "cell_type": "code",
   "execution_count": null,
   "metadata": {
    "collapsed": true
   },
   "outputs": [],
   "source": [
    "with open('belfast.geojson') as f:  \n",
    "    belfastGeoJSON = json.load(f)"
   ]
  },
  {
   "cell_type": "code",
   "execution_count": null,
   "metadata": {},
   "outputs": [],
   "source": [
    "belfastSa2Idx = {}\n",
    "for i in range(0,len(belfastGeoJSON[\"features\"])):\n",
    "    feature = belfastGeoJSON[\"features\"][i]\n",
    "    sa = feature['properties']['SA']\n",
    "    belfastSa2Idx[sa] = i\n",
    "len(belfastSa2Idx)"
   ]
  },
  {
   "cell_type": "code",
   "execution_count": null,
   "metadata": {},
   "outputs": [],
   "source": [
    "religionData_2011 = []\n",
    "with open(\"_KS211NI (s).ods - SA.csv\") as csvfile:\n",
    "    reader = csv.DictReader(csvfile)\n",
    "    for row in reader:\n",
    "        if row['SA Code'] in belfastSa2Idx:\n",
    "            religionData_2011.append(row)\n",
    "len(religionData_2011)"
   ]
  },
  {
   "cell_type": "code",
   "execution_count": null,
   "metadata": {},
   "outputs": [],
   "source": [
    "#religionData_2011[0]\n",
    "#{'All usual residents': '367',\n",
    "# 'Religion: Catholic': '320',\n",
    "# 'Religion: Catholic (%)': '87.19',\n",
    "# 'Religion: Church of Ireland': '0',\n",
    "# 'Religion: Church of Ireland (%)': '0.00',\n",
    "# 'Religion: Methodist Church in Ireland': '0',\n",
    "# 'Religion: Methodist Church in Ireland (%)': '0.00',\n",
    "# 'Religion: No religion': '15',\n",
    "# 'Religion: No religion (%)': '4.09',\n",
    "# 'Religion: Other Christian (including Christian related)': '3',\n",
    "# 'Religion: Other Christian (including Christian related) (%)': '0.82',\n",
    "# 'Religion: Other religions': '0',\n",
    "# 'Religion: Other religions (%)': '0.00',\n",
    "# 'Religion: Presbyterian Church in Ireland': '2',\n",
    "# 'Religion: Presbyterian Church in Ireland (%)': '0.54',\n",
    "# 'Religion: Religion not stated': '27',\n",
    "# 'Religion: Religion not stated (%)': '7.36',\n",
    "# 'SA': 'N00000825 (Andersonstown ward)',\n",
    "# 'SA Code': 'N00000825'}"
   ]
  },
  {
   "cell_type": "code",
   "execution_count": 128,
   "metadata": {
    "collapsed": true
   },
   "outputs": [],
   "source": [
    "romanCatholic = ['Religion: Catholic']\n",
    "presbyterian = ['Religion: Presbyterian Church in Ireland']\n",
    "churchOfIreland = ['Religion: Church of Ireland']\n",
    "methodist = ['Religion: Methodist Church in Ireland']\n",
    "other = ['Religion: No religion', 'Religion: Other Christian (including Christian related)', \n",
    "         'Religion: Other religions', 'Religion: Religion not stated']\n",
    "\n",
    "religions = {\n",
    "    'romanCatholic':romanCatholic, \n",
    "    'presbyterian': presbyterian, \n",
    "    'churchOfIreland': churchOfIreland, \n",
    "    'methodist': methodist, \n",
    "    'other': other}\n",
    "\n",
    "religion2Idx = {\n",
    "    'romanCatholic': 1.0, \n",
    "    'presbyterian': 2.0, \n",
    "    'churchOfIreland': 3.0, \n",
    "    'methodist': 4.0, \n",
    "    'other': 5.0\n",
    "}"
   ]
  },
  {
   "cell_type": "code",
   "execution_count": null,
   "metadata": {},
   "outputs": [],
   "source": [
    "geom = belfastGeoJSON[\"features\"][0][\"geometry\"]\n",
    "p = RandomPointFromPolygon(geom)\n",
    "LonLatToPixelXY(p)"
   ]
  },
  {
   "cell_type": "code",
   "execution_count": null,
   "metadata": {},
   "outputs": [],
   "source": [
    "points_2011 = []\n",
    "for row in religionData_2011:\n",
    "    sa = row['SA Code']\n",
    "    featureIdx = belfastSa2Idx[sa]\n",
    "    geom = belfastGeoJSON[\"features\"][featureIdx]['geometry']\n",
    "    total = int(row['All usual residents'].replace(',', ''))\n",
    "    totals = 0\n",
    "    for k in religions.keys():\n",
    "        currentTotal = 0\n",
    "        for i in religions[k]:\n",
    "            currentTotal += int(row[i].replace(',',''))\n",
    "        for i in range(currentTotal):\n",
    "            point = []\n",
    "            point += LonLatToPixelXY(RandomPointFromPolygon(geom))\n",
    "            point.append(religion2Idx[k])\n",
    "            points_2011.append(point)\n",
    "        totals += currentTotal        \n",
    "    if total != totals:\n",
    "        mis += 1\n",
    "        print mis        "
   ]
  },
  {
   "cell_type": "code",
   "execution_count": null,
   "metadata": {},
   "outputs": [],
   "source": [
    "len(points_2011)"
   ]
  },
  {
   "cell_type": "code",
   "execution_count": null,
   "metadata": {},
   "outputs": [],
   "source": [
    "shuffle(points_2011)"
   ]
  },
  {
   "cell_type": "code",
   "execution_count": null,
   "metadata": {},
   "outputs": [],
   "source": [
    "points = []\n",
    "for sublist in points_2011:\n",
    "    for item in sublist:\n",
    "        points.append(item)\n",
    "array.array('f', points).tofile(open('dotmap-2011.bin', 'wb'))"
   ]
  },
  {
   "cell_type": "code",
   "execution_count": null,
   "metadata": {},
   "outputs": [],
   "source": [
    "lookupTableData = []\n",
    "with open(\"Look-up Tables_0.xlsx - SA2011.csv\") as csvfile:\n",
    "    reader = csv.DictReader(csvfile)\n",
    "    for row in reader:\n",
    "        if row['SA2011'] in belfastSa2Idx:\n",
    "            lookupTableData.append(row)\n",
    "len(lookupTableData)    "
   ]
  },
  {
   "cell_type": "code",
   "execution_count": null,
   "metadata": {},
   "outputs": [],
   "source": [
    "#lookupTableData[0]\n",
    "#{'COA2001_1': '95GG010001',\n",
    "#'COA2001_2': '',\n",
    "# 'COA2001_3': '',\n",
    "# 'COA2001_4': '',\n",
    "# 'SA2011': 'N00000825',\n",
    "# 'SA2011NAME': 'N00000825 (Andersonstown ward)',\n",
    "# 'SOA2001': '95GG01S1',\n",
    "# 'SOANAME': 'Andersonstown_1'}"
   ]
  },
  {
   "cell_type": "code",
   "execution_count": null,
   "metadata": {
    "collapsed": true
   },
   "outputs": [],
   "source": [
    "raw_2001 = []\n",
    "with open(\"2001/oa/TABLE CAS308 (OA).csv\") as csvfile:\n",
    "    reader = csv.reader(csvfile)\n",
    "    for row in reader:\n",
    "        raw_2001.append(row)\n"
   ]
  },
  {
   "cell_type": "code",
   "execution_count": null,
   "metadata": {},
   "outputs": [],
   "source": [
    "religionDataIdx_2001 = {}\n",
    "\n",
    "for row in lookupTableData:\n",
    "    idx_2001 = row['COA2001_1']\n",
    "    religionDataIdx_2001[idx_2001] = []\n",
    "    for raw_row in raw_2001:\n",
    "        if len(raw_row) == 3:\n",
    "            raw_idx = raw_row[0].strip()\n",
    "            raw_key = raw_row[1]\n",
    "            raw_value = raw_row[2]\n",
    "            if raw_value == \"-\":\n",
    "                raw_value = '0'\n",
    "            if raw_idx == idx_2001:\n",
    "                religionDataIdx_2001[idx_2001].append({raw_key: raw_value})\n",
    "            "
   ]
  },
  {
   "cell_type": "code",
   "execution_count": null,
   "metadata": {},
   "outputs": [],
   "source": [
    "religionData_2001 = []\n",
    "for row in lookupTableData:\n",
    "    data_2001 = {}\n",
    "    idx_2001 = row['COA2001_1']\n",
    "    data_2001['SA Code'] = row['SA2011']\n",
    "    data_2001['COA2001_1'] = idx_2001\n",
    "    data_2001['All usual residents'] = religionDataIdx_2001[idx_2001][0]['All persons']\n",
    "    data_2001['Religion: Catholic'] = religionDataIdx_2001[idx_2001][2]['Catholic']\n",
    "    data_2001['Religion: Church of Ireland'] = religionDataIdx_2001[idx_2001][4]['Church of Ireland']\n",
    "    data_2001['Religion: Methodist Church in Ireland'] = religionDataIdx_2001[idx_2001][5]['Methodist Church in Ireland']\n",
    "    data_2001['Religion: Presbyterian Church in Ireland'] = religionDataIdx_2001[idx_2001][3]['Presbyterian Church in Ireland']\n",
    "    data_2001['Religion: Other Christian (including Christian related)'] = religionDataIdx_2001[idx_2001][6]['Other Christian (including Christian related)']\n",
    "    data_2001['Religion: Other religions'] = religionDataIdx_2001[idx_2001][7]['Other religions and philosophies']\n",
    "    data_2001['Religion: No religion'] = religionDataIdx_2001[idx_2001][8]['No religion or religion not stated']\n",
    "    data_2001['Religion: Religion not stated'] = '0'\n",
    "    religionData_2001.append(data_2001)\n",
    "    \n",
    "    "
   ]
  },
  {
   "cell_type": "code",
   "execution_count": null,
   "metadata": {},
   "outputs": [],
   "source": [
    "religionData_2001[0]"
   ]
  },
  {
   "cell_type": "code",
   "execution_count": null,
   "metadata": {},
   "outputs": [],
   "source": [
    "religionDataIdx_2001['95GG010002']"
   ]
  },
  {
   "cell_type": "code",
   "execution_count": null,
   "metadata": {},
   "outputs": [],
   "source": [
    "data_2001"
   ]
  },
  {
   "cell_type": "code",
   "execution_count": null,
   "metadata": {},
   "outputs": [],
   "source": [
    "religionDataIdx_2001[idx_2001]"
   ]
  },
  {
   "cell_type": "code",
   "execution_count": null,
   "metadata": {},
   "outputs": [],
   "source": [
    "points_2001 = []\n",
    "for row in religionData_2001:\n",
    "    sa = row['SA Code']\n",
    "    featureIdx = belfastSa2Idx[sa]\n",
    "    geom = belfastGeoJSON[\"features\"][featureIdx]['geometry']\n",
    "    total = int(row['All usual residents'].replace(',', ''))\n",
    "    totals = 0\n",
    "    for k in religions.keys():\n",
    "        currentTotal = 0\n",
    "        for i in religions[k]:\n",
    "            currentTotal += int(row[i].replace(',',''))\n",
    "        for i in range(currentTotal):\n",
    "            point = []\n",
    "            point += LonLatToPixelXY(RandomPointFromPolygon(geom))\n",
    "            point.append(religion2Idx[k])\n",
    "            points_2001.append(point)\n",
    "        totals += currentTotal        \n",
    "    if total != totals:\n",
    "        mis += 1\n",
    "        print mis        "
   ]
  },
  {
   "cell_type": "code",
   "execution_count": null,
   "metadata": {},
   "outputs": [],
   "source": [
    "len(points_2001)"
   ]
  },
  {
   "cell_type": "code",
   "execution_count": null,
   "metadata": {
    "collapsed": true
   },
   "outputs": [],
   "source": [
    "shuffle(points_2001)"
   ]
  },
  {
   "cell_type": "code",
   "execution_count": null,
   "metadata": {
    "collapsed": true
   },
   "outputs": [],
   "source": [
    "points = []\n",
    "for sublist in points_2001:\n",
    "    for item in sublist:\n",
    "        points.append(item)\n",
    "array.array('f', points).tofile(open('dotmap-2001.bin', 'wb'))"
   ]
  },
  {
   "cell_type": "code",
   "execution_count": null,
   "metadata": {},
   "outputs": [],
   "source": [
    "grid2OA = []\n",
    "with open(\"5672/5672package/package/100mgrids/txt/grid100mOA.txt\") as csvfile:\n",
    "    reader = csv.DictReader(csvfile, delimiter='\\t')\n",
    "    for row in reader:\n",
    "        grid2OA.append(row)"
   ]
  },
  {
   "cell_type": "code",
   "execution_count": null,
   "metadata": {},
   "outputs": [],
   "source": [
    "#grid2OA[0]\n",
    "#{'Grid01': 'J 075 899',\n",
    "# 'Grid718191': 'J075899 - J076900',\n",
    "# 'OA': '95AA050006',\n",
    "# 'Oa_code': '6',\n",
    "# 'Oa_cty': '95',\n",
    "# 'Oa_dis': 'AA',\n",
    "# 'Oa_ward': '5',\n",
    "# 'Ward': '95AA05',\n",
    "# 'X': '307550',\n",
    "# 'Y': '389950'}"
   ]
  },
  {
   "cell_type": "code",
   "execution_count": null,
   "metadata": {},
   "outputs": [],
   "source": [
    "oa2Grid718191 = {}\n",
    "for row in grid2OA:\n",
    "    if not row[\"OA\"] in oa2Grid718191:\n",
    "        oa2Grid718191[row[\"OA\"]] = []\n",
    "    oa2Grid718191[row[\"OA\"]].append(row['Grid718191'])"
   ]
  },
  {
   "cell_type": "code",
   "execution_count": null,
   "metadata": {},
   "outputs": [],
   "source": [
    "#oa2Grid718191[\"95GG400001\"]\n",
    "#['J321744 - J322745',\n",
    "# 'J321745 - J322746',\n",
    "# 'J321746 - J322747',\n",
    "# 'J322745 - J323746',\n",
    "# 'J322747 - J323748']"
   ]
  },
  {
   "cell_type": "code",
   "execution_count": null,
   "metadata": {},
   "outputs": [],
   "source": [
    "# Convert DBF to CSV\n",
    "years = [\"1971\", \"1981\", \"1991\"]\n",
    "for year in years:\n",
    "    cmd = \"ogr2ogr -f CSV %soth100m.csv 5672/5672package/package/100mgrids/dbf/%soth100m.dbf\" % (year, year)\n",
    "    !$cmd\n",
    "   "
   ]
  },
  {
   "cell_type": "code",
   "execution_count": null,
   "metadata": {
    "collapsed": true
   },
   "outputs": [],
   "source": [
    "data_1991 = []\n",
    "with open(\"1991oth100m.csv\") as csvfile:\n",
    "    reader = csv.DictReader(csvfile)\n",
    "    for row in reader:\n",
    "        data_1991.append(row)\n",
    "    "
   ]
  },
  {
   "cell_type": "code",
   "execution_count": null,
   "metadata": {},
   "outputs": [],
   "source": [
    "# data_1991[0]\n",
    "# {'GRID': 'C414160 - C415161',\n",
    "#   ...\n",
    "# 'V783_91': '-99997',\n",
    "# 'V784_91': '-99997',\n",
    "# 'V785_91': '-99997',\n",
    "# 'V786_91': '-99997',\n",
    "# 'V787_91': '-99997',\n",
    "# 'V788_91': '-99997',\n",
    "# 'V789_91': '-99997',\n",
    "# 'V790_91': '-99997',\n",
    "# 'V791_91': '-99997',\n",
    "# 'V792_91': '-99997',\n",
    "# 'V793_91': '-99997',\n",
    "# 'V794_91': '-99997',\n",
    "# ...\n",
    "# }"
   ]
  },
  {
   "cell_type": "code",
   "execution_count": null,
   "metadata": {},
   "outputs": [],
   "source": [
    "# 1971 and 1981\n",
    "#     totalCatholic = int(row['V783_91']) + int(row['V784_91'])\n",
    "#    totalPresbyterian = int(row['V785_91']) + int(row['V786_91'])\n",
    "#    totalCoI = int(row['V787_91']) + int(row['V788_91'])\n",
    "#    totalMethodist = int(row['V789_91']) + int(row['V790_91'])\n",
    "#    totalOther = int(row['V791_91']) + int(row['V792_91'])    \n",
    "#    totalNotStated = int(row['V793_91']) + int(row['V794_91'])\n",
    "\n",
    "grid2religion_1991 = {}\n",
    "for row in data_1991:\n",
    "    gridIdx = row['GRID']\n",
    "    totalCatholic = int(row['V895_91']) + int(row['V896_91'])\n",
    "    totalPresbyterian = int(row['V897_91']) + int(row['V898_91'])\n",
    "    totalCoI = int(row['V899_91']) + int(row['V900_91'])\n",
    "    totalMethodist = int(row['V901_91']) + int(row['V902_91'])\n",
    "    totalOther = int(row['V903_91']) + int(row['V904_91'])    \n",
    "    totalNone = int(row['V905_91']) + int(row['V906_91'])\n",
    "    totalNotStated = int(row['V907_91']) + int(row['V908_91'])\n",
    "    grid2religion_1991[gridIdx] = {\n",
    "        'Catholic': max(0,totalCatholic),\n",
    "        'Church of Ireland': max(0,totalCoI),\n",
    "        'Methodist Church in Ireland': max(0,totalMethodist),\n",
    "        'Presbyterian Church in Ireland': max(0,totalPresbyterian),\n",
    "        'Other': max(0,totalOther),\n",
    "        'Religion not stated': max(0,totalNotStated),\n",
    "        'None': max(0,totalNone)\n",
    "    }\n",
    "    "
   ]
  },
  {
   "cell_type": "code",
   "execution_count": null,
   "metadata": {},
   "outputs": [],
   "source": [
    "religionData_1991 = []\n",
    "for row in lookupTableData:\n",
    "    data_1991 = {}\n",
    "    idx_2001 = row['COA2001_1']\n",
    "    data_1991['SA Code'] = row['SA2011']\n",
    "    data_1991['COA2001_1'] = idx_2001\n",
    "    totalCatholic = 0\n",
    "    totalPresbyterian = 0\n",
    "    totalCoI = 0\n",
    "    totalMethodist = 0\n",
    "    totalOther = 0 \n",
    "    totalNotStated = 0\n",
    "    totalNone = 0\n",
    "    if idx_2001 in oa2Grid718191:\n",
    "        for gridIdx in oa2Grid718191[idx_2001]:        \n",
    "            if gridIdx in grid2religion_1991:\n",
    "                totalCatholic += grid2religion_1991[gridIdx]['Catholic']\n",
    "                totalPresbyterian += grid2religion_1991[gridIdx]['Presbyterian Church in Ireland']\n",
    "                totalCoI += grid2religion_1991[gridIdx]['Church of Ireland']\n",
    "                totalMethodist += grid2religion_1991[gridIdx]['Methodist Church in Ireland']\n",
    "                totalOther += grid2religion_1991[gridIdx]['Other']\n",
    "                totalNotStated += grid2religion_1991[gridIdx]['Religion not stated']\n",
    "                totalNone += grid2religion_1991[gridIdx]['None']\n",
    "        \n",
    "    data_1991['All usual residents'] = totalCatholic + totalPresbyterian + totalCoI + totalMethodist + totalOther + totalNotStated + totalNone\n",
    "    data_1991['Religion: Catholic'] = totalCatholic\n",
    "    data_1991['Religion: Church of Ireland'] = totalCoI\n",
    "    data_1991['Religion: Methodist Church in Ireland'] = totalMethodist\n",
    "    data_1991['Religion: Presbyterian Church in Ireland'] = totalPresbyterian\n",
    "    data_1991['Religion: Other Christian (including Christian related)'] = totalOther\n",
    "    data_1991['Religion: Other religions'] = 0\n",
    "    data_1991['Religion: No religion'] = totalNone\n",
    "    data_1991['Religion: Religion not stated'] = totalNotStated\n",
    "    religionData_1991.append(data_1991)\n"
   ]
  },
  {
   "cell_type": "code",
   "execution_count": null,
   "metadata": {},
   "outputs": [],
   "source": [
    "religionData_1991[1000]"
   ]
  },
  {
   "cell_type": "code",
   "execution_count": null,
   "metadata": {},
   "outputs": [],
   "source": [
    "found = 0\n",
    "missed = 0\n",
    "for row in grid2OA:\n",
    "    gridIdx = row['Grid718191']\n",
    "    matched = False\n",
    "    for val in data_1991:        \n",
    "        if gridIdx == val['GRID']:\n",
    "            matched = True\n",
    "            break\n",
    "    if matched:\n",
    "        found += 1\n",
    "    else:\n",
    "        missed += 1 "
   ]
  },
  {
   "cell_type": "code",
   "execution_count": null,
   "metadata": {},
   "outputs": [],
   "source": [
    "missed"
   ]
  },
  {
   "cell_type": "code",
   "execution_count": null,
   "metadata": {},
   "outputs": [],
   "source": [
    "found"
   ]
  },
  {
   "cell_type": "code",
   "execution_count": null,
   "metadata": {},
   "outputs": [],
   "source": [
    "points_1991 = []\n",
    "for row in religionData_1991:\n",
    "    sa = row['SA Code']\n",
    "    featureIdx = belfastSa2Idx[sa]\n",
    "    geom = belfastGeoJSON[\"features\"][featureIdx]['geometry']\n",
    "    total = row['All usual residents']\n",
    "    totals = 0\n",
    "    for k in religions.keys():\n",
    "        currentTotal = 0\n",
    "        for i in religions[k]:\n",
    "            currentTotal += row[i]\n",
    "        for i in range(currentTotal):\n",
    "            point = []\n",
    "            point += LonLatToPixelXY(RandomPointFromPolygon(geom))\n",
    "            point.append(religion2Idx[k])\n",
    "            points_1991.append(point)\n",
    "        totals += currentTotal        \n",
    "    if total != totals:\n",
    "        mis += 1\n",
    "print mis        "
   ]
  },
  {
   "cell_type": "code",
   "execution_count": null,
   "metadata": {},
   "outputs": [],
   "source": [
    "len(points_1991)"
   ]
  },
  {
   "cell_type": "code",
   "execution_count": null,
   "metadata": {
    "collapsed": true
   },
   "outputs": [],
   "source": [
    "shuffle(points_1991)\n",
    "points = []\n",
    "for sublist in points_1991:\n",
    "    for item in sublist:\n",
    "        points.append(item)\n",
    "array.array('f', points).tofile(open('dotmap-1991.bin', 'wb'))"
   ]
  },
  {
   "cell_type": "code",
   "execution_count": null,
   "metadata": {},
   "outputs": [],
   "source": [
    "data_1981 = []\n",
    "with open(\"1981oth100m.csv\") as csvfile:\n",
    "    reader = csv.DictReader(csvfile)\n",
    "    for row in reader:\n",
    "        data_1981.append(row)\n",
    "    \n",
    "\n",
    "# 1971 and 1981\n",
    "\n",
    "grid2religion_1981 = {}\n",
    "for row in data_1981:\n",
    "    gridIdx = row['GRID']\n",
    "    totalCatholic = int(row['V783_81']) + int(row['V784_81'])\n",
    "    totalPresbyterian = int(row['V785_81']) + int(row['V786_81'])\n",
    "    totalCoI = int(row['V787_81']) + int(row['V788_81'])\n",
    "    totalMethodist = int(row['V789_81']) + int(row['V790_81'])\n",
    "    totalOther = int(row['V781_81']) + int(row['V792_81'])    \n",
    "    totalNotStated = int(row['V793_81']) + int(row['V794_81'])\n",
    "    grid2religion_1981[gridIdx] = {\n",
    "        'Catholic': max(0,totalCatholic),\n",
    "        'Church of Ireland': max(0,totalCoI),\n",
    "        'Methodist Church in Ireland': max(0,totalMethodist),\n",
    "        'Presbyterian Church in Ireland': max(0,totalPresbyterian),\n",
    "        'Other': max(0,totalOther),\n",
    "        'Religion not stated': max(0,totalNotStated)\n",
    "    }\n",
    "    \n",
    "\n",
    "religionData_1981 = []\n",
    "for row in lookupTableData:\n",
    "    data_1981 = {}\n",
    "    idx_2001 = row['COA2001_1']\n",
    "    data_1981['SA Code'] = row['SA2011']\n",
    "    data_1981['COA2001_1'] = idx_2001\n",
    "    totalCatholic = 0\n",
    "    totalPresbyterian = 0\n",
    "    totalCoI = 0\n",
    "    totalMethodist = 0\n",
    "    totalOther = 0 \n",
    "    totalNotStated = 0\n",
    "    totalNone = 0\n",
    "    if idx_2001 in oa2Grid718191:\n",
    "        for gridIdx in oa2Grid718191[idx_2001]:        \n",
    "            if gridIdx in grid2religion_1981:\n",
    "                totalCatholic += grid2religion_1981[gridIdx]['Catholic']\n",
    "                totalPresbyterian += grid2religion_1981[gridIdx]['Presbyterian Church in Ireland']\n",
    "                totalCoI += grid2religion_1981[gridIdx]['Church of Ireland']\n",
    "                totalMethodist += grid2religion_1981[gridIdx]['Methodist Church in Ireland']\n",
    "                totalOther += grid2religion_1981[gridIdx]['Other']\n",
    "                totalNotStated += grid2religion_1981[gridIdx]['Religion not stated']\n",
    "                \n",
    "    data_1981['All usual residents'] = totalCatholic + totalPresbyterian + totalCoI + totalMethodist + totalOther + totalNotStated \n",
    "    data_1981['Religion: Catholic'] = totalCatholic\n",
    "    data_1981['Religion: Church of Ireland'] = totalCoI\n",
    "    data_1981['Religion: Methodist Church in Ireland'] = totalMethodist\n",
    "    data_1981['Religion: Presbyterian Church in Ireland'] = totalPresbyterian\n",
    "    data_1981['Religion: Other Christian (including Christian related)'] = totalOther\n",
    "    data_1981['Religion: Other religions'] = 0\n",
    "    data_1981['Religion: No religion'] = totalNone\n",
    "    data_1981['Religion: Religion not stated'] = totalNotStated\n",
    "    religionData_1981.append(data_1981)\n",
    "\n"
   ]
  },
  {
   "cell_type": "code",
   "execution_count": null,
   "metadata": {
    "collapsed": true
   },
   "outputs": [],
   "source": [
    "points_1981 = []\n",
    "for row in religionData_1981:\n",
    "    sa = row['SA Code']\n",
    "    featureIdx = belfastSa2Idx[sa]\n",
    "    geom = belfastGeoJSON[\"features\"][featureIdx]['geometry']\n",
    "    total = row['All usual residents']\n",
    "    totals = 0\n",
    "    for k in religions.keys():\n",
    "        currentTotal = 0\n",
    "        for i in religions[k]:\n",
    "            currentTotal += row[i]\n",
    "        for i in range(currentTotal):\n",
    "            point = []\n",
    "            point += LonLatToPixelXY(RandomPointFromPolygon(geom))\n",
    "            point.append(religion2Idx[k])\n",
    "            points_1981.append(point)\n",
    "        totals += currentTotal        \n",
    "    if total != totals:\n",
    "        mis += 1\n",
    "print mis        \n",
    "\n",
    "shuffle(points_1981)\n",
    "points = []\n",
    "for sublist in points_1981:\n",
    "    for item in sublist:\n",
    "        points.append(item)\n",
    "array.array('f', points).tofile(open('dotmap-1981.bin', 'wb'))\n"
   ]
  },
  {
   "cell_type": "code",
   "execution_count": null,
   "metadata": {},
   "outputs": [],
   "source": [
    "len(points_1981)"
   ]
  },
  {
   "cell_type": "code",
   "execution_count": null,
   "metadata": {},
   "outputs": [],
   "source": [
    "data_1971 = []\n",
    "with open(\"1971oth100m.csv\") as csvfile:\n",
    "    reader = csv.DictReader(csvfile)\n",
    "    for row in reader:\n",
    "        data_1971.append(row)\n",
    "    \n",
    "\n",
    "# 1971 and 1971\n",
    "\n",
    "grid2religion_1971 = {}\n",
    "for row in data_1971:\n",
    "    gridIdx = row['GRID']\n",
    "    totalCatholic = int(row['V783_71']) + int(row['V784_71'])\n",
    "    totalPresbyterian = int(row['V785_71']) + int(row['V786_71'])\n",
    "    totalCoI = int(row['V787_71']) + int(row['V788_71'])\n",
    "    totalMethodist = int(row['V789_71']) + int(row['V790_71'])\n",
    "    totalOther = int(row['V771_71']) + int(row['V792_71'])    \n",
    "    totalNotStated = int(row['V793_71']) + int(row['V794_71'])\n",
    "    grid2religion_1971[gridIdx] = {\n",
    "        'Catholic': max(0,totalCatholic),\n",
    "        'Church of Ireland': max(0,totalCoI),\n",
    "        'Methodist Church in Ireland': max(0,totalMethodist),\n",
    "        'Presbyterian Church in Ireland': max(0,totalPresbyterian),\n",
    "        'Other': max(0,totalOther),\n",
    "        'Religion not stated': max(0,totalNotStated)\n",
    "    }\n",
    "\n",
    "\n",
    "religionData_1971 = []\n",
    "for row in lookupTableData:\n",
    "    data_1971 = {}\n",
    "    idx_2001 = row['COA2001_1']\n",
    "    data_1971['SA Code'] = row['SA2011']\n",
    "    data_1971['COA2001_1'] = idx_2001\n",
    "    totalCatholic = 0\n",
    "    totalPresbyterian = 0\n",
    "    totalCoI = 0\n",
    "    totalMethodist = 0\n",
    "    totalOther = 0 \n",
    "    totalNotStated = 0\n",
    "    totalNone = 0\n",
    "    if idx_2001 in oa2Grid718191:\n",
    "        for gridIdx in oa2Grid718191[idx_2001]:        \n",
    "            if gridIdx in grid2religion_1971:\n",
    "                totalCatholic += grid2religion_1971[gridIdx]['Catholic']\n",
    "                totalPresbyterian += grid2religion_1971[gridIdx]['Presbyterian Church in Ireland']\n",
    "                totalCoI += grid2religion_1971[gridIdx]['Church of Ireland']\n",
    "                totalMethodist += grid2religion_1971[gridIdx]['Methodist Church in Ireland']\n",
    "                totalOther += grid2religion_1971[gridIdx]['Other']\n",
    "                totalNotStated += grid2religion_1971[gridIdx]['Religion not stated']\n",
    "                \n",
    "    data_1971['All usual residents'] = totalCatholic + totalPresbyterian + totalCoI + totalMethodist + totalOther + totalNotStated \n",
    "    data_1971['Religion: Catholic'] = totalCatholic\n",
    "    data_1971['Religion: Church of Ireland'] = totalCoI\n",
    "    data_1971['Religion: Methodist Church in Ireland'] = totalMethodist\n",
    "    data_1971['Religion: Presbyterian Church in Ireland'] = totalPresbyterian\n",
    "    data_1971['Religion: Other Christian (including Christian related)'] = totalOther\n",
    "    data_1971['Religion: Other religions'] = 0\n",
    "    data_1971['Religion: No religion'] = totalNone\n",
    "    data_1971['Religion: Religion not stated'] = totalNotStated\n",
    "    religionData_1971.append(data_1971)\n",
    "\n"
   ]
  },
  {
   "cell_type": "code",
   "execution_count": null,
   "metadata": {},
   "outputs": [],
   "source": [
    "points_1971 = []\n",
    "for row in religionData_1971:\n",
    "    sa = row['SA Code']\n",
    "    featureIdx = belfastSa2Idx[sa]\n",
    "    geom = belfastGeoJSON[\"features\"][featureIdx]['geometry']\n",
    "    total = row['All usual residents']\n",
    "    totals = 0\n",
    "    for k in religions.keys():\n",
    "        currentTotal = 0\n",
    "        for i in religions[k]:\n",
    "            currentTotal += row[i]\n",
    "        for i in range(currentTotal):\n",
    "            point = []\n",
    "            point += LonLatToPixelXY(RandomPointFromPolygon(geom))\n",
    "            point.append(religion2Idx[k])\n",
    "            points_1971.append(point)\n",
    "        totals += currentTotal        \n",
    "    if total != totals:\n",
    "        mis += 1\n",
    "print mis        \n",
    "\n",
    "shuffle(points_1971)\n",
    "points = []\n",
    "for sublist in points_1971:\n",
    "    for item in sublist:\n",
    "        points.append(item)\n",
    "array.array('f', points).tofile(open('dotmap-1971.bin', 'wb'))\n",
    "\n"
   ]
  },
  {
   "cell_type": "code",
   "execution_count": null,
   "metadata": {},
   "outputs": [],
   "source": [
    "len(points_1971)"
   ]
  },
  {
   "cell_type": "code",
   "execution_count": 236,
   "metadata": {},
   "outputs": [],
   "source": [
    "censusTotalsOverTime = {}\n",
    "for row in religionData_1971:\n",
    "    idx = row[\"SA Code\"]\n",
    "    if not idx in censusTotalsOverTime:\n",
    "        censusTotalsOverTime[idx] = {}\n",
    "    censusTotalsOverTime[idx]['1971'] = {\n",
    "        'romanCatholic': int(row['Religion: Catholic']),\n",
    "        'churchOfIreland': int(row['Religion: Church of Ireland']),\n",
    "        'methodist': int(row['Religion: Methodist Church in Ireland']),\n",
    "        'presbyterian': int(row['Religion: Presbyterian Church in Ireland']),\n",
    "        'other': int(row['Religion: No religion'])  + int(row['Religion: Other Christian (including Christian related)']) + int(row['Religion: Other religions']) + int(row['Religion: Religion not stated'])\n",
    "    }\n",
    "    \n",
    "for row in religionData_1981:\n",
    "    idx = row[\"SA Code\"]\n",
    "    if not idx in censusTotalsOverTime:\n",
    "        censusTotalsOverTime[idx] = {}\n",
    "    censusTotalsOverTime[idx]['1981'] = {\n",
    "        'romanCatholic': int(row['Religion: Catholic']),\n",
    "        'churchOfIreland': int(row['Religion: Church of Ireland']),\n",
    "        'methodist': int(row['Religion: Methodist Church in Ireland']),\n",
    "        'presbyterian': int(row['Religion: Presbyterian Church in Ireland']),\n",
    "        'other': int(row['Religion: No religion'])  + int(row['Religion: Other Christian (including Christian related)']) + int(row['Religion: Other religions']) + int(row['Religion: Religion not stated'])\n",
    "    }\n",
    "    \n",
    "for row in religionData_1991:\n",
    "    idx = row[\"SA Code\"]\n",
    "    if not idx in censusTotalsOverTime:\n",
    "        censusTotalsOverTime[idx] = {}\n",
    "    censusTotalsOverTime[idx]['1991'] = {\n",
    "        'romanCatholic': int(row['Religion: Catholic']),\n",
    "        'churchOfIreland': int(row['Religion: Church of Ireland']),\n",
    "        'methodist': int(row['Religion: Methodist Church in Ireland']),\n",
    "        'presbyterian': int(row['Religion: Presbyterian Church in Ireland']),\n",
    "        'other': int(row['Religion: No religion'])  + int(row['Religion: Other Christian (including Christian related)']) + int(row['Religion: Other religions']) + int(row['Religion: Religion not stated'])\n",
    "    }\n",
    "    \n",
    "for row in religionData_2001:\n",
    "    idx = row[\"SA Code\"]\n",
    "    if not idx in censusTotalsOverTime:\n",
    "        censusTotalsOverTime[idx] = {}\n",
    "    censusTotalsOverTime[idx]['2001'] = {\n",
    "        'romanCatholic': int(row['Religion: Catholic']),\n",
    "        'churchOfIreland': int(row['Religion: Church of Ireland']),\n",
    "        'methodist': int(row['Religion: Methodist Church in Ireland']),\n",
    "        'presbyterian': int(row['Religion: Presbyterian Church in Ireland']),\n",
    "        'other': int(row['Religion: No religion'])  + int(row['Religion: Other Christian (including Christian related)']) + int(row['Religion: Other religions']) + int(row['Religion: Religion not stated'])\n",
    "    }\n",
    "    \n",
    "for row in religionData_2011:\n",
    "    idx = row[\"SA Code\"]\n",
    "    if not idx in censusTotalsOverTime:\n",
    "        censusTotalsOverTime[idx] = {}\n",
    "    censusTotalsOverTime[idx]['2011'] = {\n",
    "        'romanCatholic': int(row['Religion: Catholic'].replace(\",\",\"\")),\n",
    "        'churchOfIreland': int(row['Religion: Church of Ireland']),\n",
    "        'methodist': int(row['Religion: Methodist Church in Ireland']),\n",
    "        'presbyterian': int(row['Religion: Presbyterian Church in Ireland']),\n",
    "        'other': int(row['Religion: No religion'])  + int(row['Religion: Other Christian (including Christian related)']) + int(row['Religion: Other religions']) + int(row['Religion: Religion not stated'])\n",
    "    }"
   ]
  },
  {
   "cell_type": "code",
   "execution_count": 124,
   "metadata": {},
   "outputs": [
    {
     "data": {
      "text/plain": [
       "41"
      ]
     },
     "execution_count": 124,
     "metadata": {},
     "output_type": "execute_result"
    }
   ],
   "source": [
    "len(range(1971,2012))"
   ]
  },
  {
   "cell_type": "code",
   "execution_count": 237,
   "metadata": {},
   "outputs": [
    {
     "data": {
      "text/plain": [
       "{'All usual residents': 511,\n",
       " 'COA2001_1': '95GG010001',\n",
       " 'Religion: Catholic': 339,\n",
       " 'Religion: Church of Ireland': 3,\n",
       " 'Religion: Methodist Church in Ireland': 0,\n",
       " 'Religion: No religion': 0,\n",
       " 'Religion: Other Christian (including Christian related)': 0,\n",
       " 'Religion: Other religions': 0,\n",
       " 'Religion: Presbyterian Church in Ireland': 1,\n",
       " 'Religion: Religion not stated': 168,\n",
       " 'SA Code': 'N00000825'}"
      ]
     },
     "execution_count": 237,
     "metadata": {},
     "output_type": "execute_result"
    }
   ],
   "source": [
    "religionData_1971[0]"
   ]
  },
  {
   "cell_type": "code",
   "execution_count": 238,
   "metadata": {},
   "outputs": [
    {
     "data": {
      "text/plain": [
       "{'1971': {'churchOfIreland': 84,\n",
       "  'methodist': 70,\n",
       "  'other': 34,\n",
       "  'presbyterian': 174,\n",
       "  'romanCatholic': 115},\n",
       " '1981': {'churchOfIreland': 40,\n",
       "  'methodist': 46,\n",
       "  'other': 96,\n",
       "  'presbyterian': 119,\n",
       "  'romanCatholic': 114},\n",
       " '1991': {'churchOfIreland': 31,\n",
       "  'methodist': 20,\n",
       "  'other': 79,\n",
       "  'presbyterian': 77,\n",
       "  'romanCatholic': 153},\n",
       " '2001': {'churchOfIreland': 27,\n",
       "  'methodist': 26,\n",
       "  'other': 68,\n",
       "  'presbyterian': 43,\n",
       "  'romanCatholic': 130},\n",
       " '2011': {'churchOfIreland': 26,\n",
       "  'methodist': 16,\n",
       "  'other': 77,\n",
       "  'presbyterian': 30,\n",
       "  'romanCatholic': 135}}"
      ]
     },
     "execution_count": 238,
     "metadata": {},
     "output_type": "execute_result"
    }
   ],
   "source": [
    "censusTotalsOverTime[idx]"
   ]
  },
  {
   "cell_type": "code",
   "execution_count": 265,
   "metadata": {},
   "outputs": [
    {
     "name": "stdout",
     "output_type": "stream",
     "text": [
      "100\n",
      "200\n"
     ]
    },
    {
     "ename": "KeyboardInterrupt",
     "evalue": "",
     "output_type": "error",
     "traceback": [
      "\u001b[0;31m---------------------------------------------------------------------------\u001b[0m",
      "\u001b[0;31mKeyboardInterrupt\u001b[0m                         Traceback (most recent call last)",
      "\u001b[0;32m<ipython-input-265-2eaafdb18621>\u001b[0m in \u001b[0;36m<module>\u001b[0;34m()\u001b[0m\n\u001b[1;32m     54\u001b[0m                 \u001b[0;32mfor\u001b[0m \u001b[0mj\u001b[0m \u001b[0;32min\u001b[0m \u001b[0mrange\u001b[0m\u001b[0;34m(\u001b[0m\u001b[0mabsDiff\u001b[0m\u001b[0;34m)\u001b[0m\u001b[0;34m:\u001b[0m\u001b[0;34m\u001b[0m\u001b[0m\n\u001b[1;32m     55\u001b[0m                     \u001b[0;32mfor\u001b[0m \u001b[0mk\u001b[0m \u001b[0;32min\u001b[0m \u001b[0mrange\u001b[0m\u001b[0;34m(\u001b[0m\u001b[0mlen\u001b[0m\u001b[0;34m(\u001b[0m\u001b[0mpoints\u001b[0m\u001b[0;34m)\u001b[0m\u001b[0;34m)\u001b[0m\u001b[0;34m:\u001b[0m\u001b[0;34m\u001b[0m\u001b[0m\n\u001b[0;32m---> 56\u001b[0;31m                         \u001b[0;32mif\u001b[0m \u001b[0mlen\u001b[0m\u001b[0;34m(\u001b[0m\u001b[0mpoints\u001b[0m\u001b[0;34m[\u001b[0m\u001b[0mk\u001b[0m\u001b[0;34m]\u001b[0m\u001b[0;34m)\u001b[0m \u001b[0;34m==\u001b[0m \u001b[0;36m4\u001b[0m\u001b[0;34m:\u001b[0m\u001b[0;34m\u001b[0m\u001b[0m\n\u001b[0m\u001b[1;32m     57\u001b[0m                             \u001b[0mpoints\u001b[0m\u001b[0;34m[\u001b[0m\u001b[0mk\u001b[0m\u001b[0;34m]\u001b[0m\u001b[0;34m.\u001b[0m\u001b[0mappend\u001b[0m\u001b[0;34m(\u001b[0m\u001b[0mcurrentYear\u001b[0m\u001b[0;34m)\u001b[0m\u001b[0;34m\u001b[0m\u001b[0m\n\u001b[1;32m     58\u001b[0m                             \u001b[0;32mbreak\u001b[0m\u001b[0;34m\u001b[0m\u001b[0m\n",
      "\u001b[0;31mKeyboardInterrupt\u001b[0m: "
     ]
    }
   ],
   "source": [
    "totalsPerYear = {}\n",
    "years = ['1971', '1981', '1991', '2001', '2011']\n",
    "religions = [\"romanCatholic\", \"churchOfIreland\", \"methodist\", \"other\", \"presbyterian\"]\n",
    "points = {}\n",
    "count = 0\n",
    "for row in religionData_2011:\n",
    "    idx = row[\"SA Code\"]\n",
    "    count += 1\n",
    "    if count % 100 == 0:\n",
    "        print count\n",
    "        \n",
    "    if not idx in totalsPerYear:\n",
    "        totalsPerYear[idx] = {}\n",
    "\n",
    "    if not idx in points:\n",
    "        points[idx] = []\n",
    "\n",
    "    for year in range(len(years)-1):\n",
    "        nextYear = years[year+1]\n",
    "        currYear = years[year]\n",
    "        for religion in religions:        \n",
    "            currentValue = int(censusTotalsOverTime[idx][currYear][religion])\n",
    "            nextValue = int(censusTotalsOverTime[idx][nextYear][religion])\n",
    "            diff = nextValue  - currentValue\n",
    "            step = math.floor(diff/10)\n",
    "            if not key in totalsPerYear[idx]:\n",
    "                totalsPerYear[idx][religion] = []\n",
    "            for i in range(10):\n",
    "                if step < 0:\n",
    "                    value = max(i*step + currentValue, nextValue)\n",
    "                else:\n",
    "                    value = min(i*step + currentValue, nextValue)               \n",
    "                totalsPerYear[idx][religion].append(value)\n",
    "            if (nextYear == '2011'):\n",
    "                totalsPerYear[idx][religion].append(nextValue)\n",
    "\n",
    "    geom = belfastGeoJSON[\"features\"][belfastSa2Idx[idx]]['geometry']\n",
    "    for religion in religions:\n",
    "        value = religion2Idx[religion]\n",
    "        year_0 = 1971\n",
    "\n",
    "        for i in range(int(totalsPerYear[idx][religion][0])):\n",
    "            point = []\n",
    "            point += LonLatToPixelXY(RandomPointFromPolygon(geom))\n",
    "            point.append(value)\n",
    "            point.append(year_0)\n",
    "            points[idx].append(point)\n",
    "\n",
    "        for i in range(1,len(totalsPerYear[idx][religion])):\n",
    "            currentYear = i + 1971\n",
    "            lastYear = i-1+1971\n",
    "            currentYearValue = int(totalsPerYear[idx][religion][i])\n",
    "            lastYearValue = int(totalsPerYear[idx][religion][i-1])\n",
    "            difference = currentYearValue - lastYearValue\n",
    "            if difference < 0:        \n",
    "                absDiff = abs(difference)\n",
    "                for j in range(absDiff):\n",
    "                    for k in range(len(points[idx])):\n",
    "                        if len(points[idx][k]) == 4:\n",
    "                            points[idx][k].append(currentYear)\n",
    "                            break\n",
    "            if difference > 0:\n",
    "                for j in range(difference):\n",
    "                    point = []\n",
    "                    point += LonLatToPixelXY(RandomPointFromPolygon(geom))\n",
    "                    point.append(value)\n",
    "                    point.append(currentYear)\n",
    "                    points[idx].append(point)                \n",
    "                \n",
    "        for point in points[idx]:\n",
    "            if len(point) == 4:\n",
    "                point.append(2012)"
   ]
  },
  {
   "cell_type": "code",
   "execution_count": 266,
   "metadata": {},
   "outputs": [
    {
     "data": {
      "text/plain": [
       "168936"
      ]
     },
     "execution_count": 266,
     "metadata": {},
     "output_type": "execute_result"
    }
   ],
   "source": [
    "len(points)"
   ]
  },
  {
   "cell_type": "code",
   "execution_count": 259,
   "metadata": {},
   "outputs": [
    {
     "data": {
      "text/plain": [
       "1008"
      ]
     },
     "execution_count": 259,
     "metadata": {},
     "output_type": "execute_result"
    }
   ],
   "source": [
    "len(religionData_2011)"
   ]
  },
  {
   "cell_type": "code",
   "execution_count": 264,
   "metadata": {},
   "outputs": [
    {
     "data": {
      "text/plain": [
       "0"
      ]
     },
     "execution_count": 264,
     "metadata": {},
     "output_type": "execute_result"
    }
   ],
   "source": [
    "200 % 100"
   ]
  },
  {
   "cell_type": "code",
   "execution_count": 267,
   "metadata": {
    "collapsed": true
   },
   "outputs": [],
   "source": [
    "pointas = []"
   ]
  },
  {
   "cell_type": "code",
   "execution_count": 275,
   "metadata": {},
   "outputs": [
    {
     "name": "stdout",
     "output_type": "stream",
     "text": [
      "100\n",
      "200\n",
      "300\n",
      "400\n",
      "500\n",
      "600\n",
      "700\n",
      "800\n",
      "900\n",
      "1000\n"
     ]
    }
   ],
   "source": [
    "totalsPerYear = {}\n",
    "years = ['1971', '1981', '1991', '2001', '2011']\n",
    "religions = [\"romanCatholic\", \"churchOfIreland\", \"methodist\", \"other\", \"presbyterian\"]\n",
    "points = {}\n",
    "count = 0\n",
    "for row in religionData_2011:\n",
    "    idx = row[\"SA Code\"]\n",
    "    count += 1\n",
    "    if count % 100 == 0:\n",
    "        print count\n",
    "        \n",
    "    if not idx in totalsPerYear:\n",
    "        totalsPerYear[idx] = {}\n",
    "\n",
    "    if not idx in points:\n",
    "        points[idx] = {}\n",
    "        for religion in religions:\n",
    "            points[idx][religion] = []\n",
    "\n",
    "    for year in range(len(years)-1):\n",
    "        nextYear = years[year+1]\n",
    "        currYear = years[year]\n",
    "        for religion in religions:        \n",
    "            currentValue = int(censusTotalsOverTime[idx][currYear][religion])\n",
    "            nextValue = int(censusTotalsOverTime[idx][nextYear][religion])\n",
    "            diff = nextValue  - currentValue\n",
    "            step = math.floor(diff/10)\n",
    "            if not key in totalsPerYear[idx]:\n",
    "                totalsPerYear[idx][religion] = []\n",
    "            for i in range(10):\n",
    "                if step < 0:\n",
    "                    value = max(i*step + currentValue, nextValue)\n",
    "                else:\n",
    "                    value = min(i*step + currentValue, nextValue)               \n",
    "                totalsPerYear[idx][religion].append(value)\n",
    "            if (nextYear == '2011'):\n",
    "                totalsPerYear[idx][religion].append(nextValue)\n"
   ]
  },
  {
   "cell_type": "code",
   "execution_count": 276,
   "metadata": {},
   "outputs": [
    {
     "name": "stdout",
     "output_type": "stream",
     "text": [
      "100\n",
      "200\n",
      "300\n",
      "400\n",
      "500\n",
      "600\n",
      "700\n",
      "800\n",
      "900\n",
      "1000\n"
     ]
    }
   ],
   "source": [
    "count = 0\n",
    "for row in religionData_2011:\n",
    "    idx = row[\"SA Code\"]\n",
    "    count += 1\n",
    "    if count % 100 == 0:\n",
    "        print count\n",
    "\n",
    "    geom = belfastGeoJSON[\"features\"][belfastSa2Idx[idx]]['geometry']\n",
    "    for religion in religions:\n",
    "        value = religion2Idx[religion]\n",
    "        year_0 = 1971\n",
    "\n",
    "        for i in range(int(totalsPerYear[idx][religion][0])):\n",
    "            point = []\n",
    "            point += LonLatToPixelXY(RandomPointFromPolygon(geom))\n",
    "            point.append(value)\n",
    "            point.append(year_0)\n",
    "            points[idx][religion].append(point)\n",
    "\n",
    "        for i in range(1,len(totalsPerYear[idx][religion])):\n",
    "            currentYear = i + 1971\n",
    "            lastYear = i-1+1971\n",
    "            currentYearValue = int(totalsPerYear[idx][religion][i])\n",
    "            lastYearValue = int(totalsPerYear[idx][religion][i-1])\n",
    "            difference = currentYearValue - lastYearValue\n",
    "            if difference < 0:        \n",
    "                absDiff = abs(difference)\n",
    "                for j in range(absDiff):\n",
    "                    for k in range(len(points[idx][religion])):\n",
    "                        if len(points[idx][religion][k]) == 4:\n",
    "                            points[idx][religion][k].append(currentYear)\n",
    "                            break\n",
    "            if difference > 0:\n",
    "                for j in range(difference):\n",
    "                    point = []\n",
    "                    point += LonLatToPixelXY(RandomPointFromPolygon(geom))\n",
    "                    point.append(value)\n",
    "                    point.append(currentYear)\n",
    "                    points[idx][religion].append(point)                \n",
    "                \n",
    "        for point in points[idx][religion]:\n",
    "            if len(point) == 4:\n",
    "                point.append(2012)"
   ]
  },
  {
   "cell_type": "code",
   "execution_count": 278,
   "metadata": {},
   "outputs": [
    {
     "data": {
      "text/plain": [
       "[[123.80295572168285, 81.5022631519091, 2.0, 1971, 1972],\n",
       " [123.80270029522805, 81.50340568767945, 2.0, 1971, 1972],\n",
       " [123.80384906635645, 81.5023770495392, 2.0, 1971, 1972],\n",
       " [123.80439588259671, 81.50348366519913, 2.0, 1971, 1972],\n",
       " [123.80279085600883, 81.50295758153962, 2.0, 1971, 1972],\n",
       " [123.80348264418583, 81.50271577007626, 2.0, 1971, 1972],\n",
       " [123.80292508908165, 81.50199193377506, 2.0, 1971, 1973],\n",
       " [123.80318413555435, 81.50224030771682, 2.0, 1971, 1973],\n",
       " [123.80319978071279, 81.50319638468699, 2.0, 1971, 1973],\n",
       " [123.8029354082663, 81.50203102522313, 2.0, 1971, 1973],\n",
       " [123.80491626072101, 81.50327287011952, 2.0, 1971, 1973],\n",
       " [123.80280068215309, 81.50193379244487, 2.0, 1971, 1973],\n",
       " [123.80295156925564, 81.50369875417783, 2.0, 1971, 1974],\n",
       " [123.80291606276573, 81.50366953373792, 2.0, 1971, 1974],\n",
       " [123.80366978201847, 81.50153814051234, 2.0, 1971, 1974],\n",
       " [123.80240012907078, 81.50211969384847, 2.0, 1971, 1974],\n",
       " [123.80301881058, 81.50309279877482, 2.0, 1971, 1974],\n",
       " [123.80422262315112, 81.50192647245947, 2.0, 1971, 1974],\n",
       " [123.80343371120165, 81.50313687706159, 2.0, 1971, 1975],\n",
       " [123.80418165246297, 81.50297962950019, 2.0, 1971, 1975],\n",
       " [123.80351927460842, 81.50341669045812, 2.0, 1971, 1975],\n",
       " [123.80247988464947, 81.50215864783375, 2.0, 1971, 1975],\n",
       " [123.80388542438953, 81.5018275910636, 2.0, 1971, 1975],\n",
       " [123.8022365761761, 81.5038013049764, 2.0, 1971, 1975],\n",
       " [123.80497649132161, 81.50322597659225, 2.0, 1971, 1976],\n",
       " [123.80394379775143, 81.50199452199803, 2.0, 1971, 1976],\n",
       " [123.80428899485948, 81.50196401964266, 2.0, 1971, 1976],\n",
       " [123.80299266671935, 81.50400464495985, 2.0, 1971, 1976],\n",
       " [123.80405420331606, 81.50161004851299, 2.0, 1971, 1976],\n",
       " [123.80295738006717, 81.50305428826636, 2.0, 1971, 1976],\n",
       " [123.80318210109846, 81.50202110683298, 2.0, 1971, 1977],\n",
       " [123.80249343980175, 81.50194611846518, 2.0, 1971, 1977],\n",
       " [123.8038485580033, 81.50279206513608, 2.0, 1971, 1977],\n",
       " [123.8041755621792, 81.50280629515878, 2.0, 1971, 1977],\n",
       " [123.80290559006407, 81.50403944493455, 2.0, 1971, 1977],\n",
       " [123.80399361506859, 81.50139233210763, 2.0, 1971, 1977],\n",
       " [123.80498930976644, 81.502217573938, 2.0, 1971, 1978],\n",
       " [123.80449325550681, 81.50263220148135, 2.0, 1971, 1978],\n",
       " [123.80451781018554, 81.5030786583744, 2.0, 1971, 1978],\n",
       " [123.80535990528924, 81.50325963772886, 2.0, 1971, 1978],\n",
       " [123.80266364490939, 81.5036251480661, 2.0, 1971, 1978],\n",
       " [123.80508415004034, 81.50327898421165, 2.0, 1971, 1978],\n",
       " [123.80405040842452, 81.50230698257127, 2.0, 1971, 1979],\n",
       " [123.80363564709397, 81.50259068806471, 2.0, 1971, 1979],\n",
       " [123.8034187777116, 81.50345330420461, 2.0, 1971, 1979],\n",
       " [123.80246137867204, 81.50331217088262, 2.0, 1971, 1979],\n",
       " [123.80365226255081, 81.5028007526727, 2.0, 1971, 1979],\n",
       " [123.80523862816628, 81.50289191917986, 2.0, 1971, 1979],\n",
       " [123.80480094978967, 81.5033381543376, 2.0, 1971, 1980],\n",
       " [123.80281189707841, 81.50262149581036, 2.0, 1971, 1980],\n",
       " [123.80271171451112, 81.50258574383595, 2.0, 1971, 1980],\n",
       " [123.80380432410806, 81.50360570455956, 2.0, 1971, 1980],\n",
       " [123.80402663523182, 81.50273465472134, 2.0, 1971, 1980],\n",
       " [123.80406887552961, 81.5021260665606, 2.0, 1971, 1980],\n",
       " [123.80386180583417, 81.50291121501236, 2.0, 1971, 1981],\n",
       " [123.80453153278384, 81.50223980715181, 2.0, 1971, 1982],\n",
       " [123.80214723605627, 81.50408558388338, 2.0, 1971, 1982],\n",
       " [123.80425049640652, 81.50276641313522, 2.0, 1971, 1982],\n",
       " [123.80420957336246, 81.50178928737778, 2.0, 1971, 1982],\n",
       " [123.80464677295794, 81.50325649009696, 2.0, 1971, 1982],\n",
       " [123.80222616573717, 81.50410247311063, 2.0, 1971, 1983],\n",
       " [123.80352087112468, 81.50299928634985, 2.0, 1971, 1983],\n",
       " [123.80249328087048, 81.50366417899762, 2.0, 1971, 1983],\n",
       " [123.8033506232031, 81.50296823451035, 2.0, 1971, 1983],\n",
       " [123.8044289792832, 81.50251766674648, 2.0, 1971, 1983],\n",
       " [123.80327012017815, 81.50244493711429, 2.0, 1971, 1984],\n",
       " [123.80262965825368, 81.50210366497535, 2.0, 1971, 1984],\n",
       " [123.80366610678595, 81.50219128365369, 2.0, 1971, 1984],\n",
       " [123.8027654786841, 81.50324278568579, 2.0, 1971, 1984],\n",
       " [123.80282147089473, 81.5037291192975, 2.0, 1971, 1984],\n",
       " [123.80241139019319, 81.50237593545776, 2.0, 1971, 1985],\n",
       " [123.80310632110806, 81.50180555960739, 2.0, 1971, 1985],\n",
       " [123.80248461052011, 81.50364811487192, 2.0, 1971, 1985],\n",
       " [123.80234278203223, 81.50231126011424, 2.0, 1971, 1985],\n",
       " [123.80358989724306, 81.50266791666185, 2.0, 1971, 1985],\n",
       " [123.80329605907087, 81.50328174428394, 2.0, 1971, 1986],\n",
       " [123.80417293689098, 81.50174245830794, 2.0, 1971, 1986],\n",
       " [123.80432943888972, 81.50287416583642, 2.0, 1971, 1986],\n",
       " [123.80377661082417, 81.50349858763605, 2.0, 1971, 1986],\n",
       " [123.80381794377989, 81.5023938297206, 2.0, 1971, 1986],\n",
       " [123.80454154906909, 81.50188672556209, 2.0, 1971, 1987],\n",
       " [123.80403015058972, 81.50322691192011, 2.0, 1971, 1987],\n",
       " [123.80240693894709, 81.5030060246462, 2.0, 1971, 1987],\n",
       " [123.80451897229086, 81.50247982745057, 2.0, 1971, 1987],\n",
       " [123.80299197398162, 81.50138115877313, 2.0, 1971, 1987],\n",
       " [123.8032158314605, 81.50264221859038, 2.0, 1971, 1988],\n",
       " [123.80287477267389, 81.50151981755452, 2.0, 1971, 1988],\n",
       " [123.80369296920522, 81.50262494848113, 2.0, 1971, 1988],\n",
       " [123.80226131274857, 81.50323585534446, 2.0, 1971, 1988],\n",
       " [123.80209838757543, 81.50313848094828, 2.0, 1971, 1988],\n",
       " [123.80198607366805, 81.50313050580554, 2.0, 1971, 1989],\n",
       " [123.8037122787173, 81.50188325748769, 2.0, 1971, 1989],\n",
       " [123.80239603985481, 81.50282036635264, 2.0, 1971, 1989],\n",
       " [123.80329615709663, 81.5018656628589, 2.0, 1971, 1989],\n",
       " [123.80211652496926, 81.50346408230229, 2.0, 1971, 1989],\n",
       " [123.80381604423197, 81.50225280679227, 2.0, 1971, 1990],\n",
       " [123.803382821024, 81.50242967341507, 2.0, 1971, 1990],\n",
       " [123.8029341218458, 81.50268793114526, 2.0, 1971, 1992],\n",
       " [123.80271321619671, 81.50127430524853, 2.0, 1971, 1992],\n",
       " [123.80369530869777, 81.50302684179329, 2.0, 1971, 1992],\n",
       " [123.80370145227809, 81.5037147807324, 2.0, 1971, 1992],\n",
       " [123.80286229251746, 81.50178909914804, 2.0, 1971, 1993],\n",
       " [123.80353927367845, 81.50358838070852, 2.0, 1971, 1993],\n",
       " [123.80194144173426, 81.50330168139561, 2.0, 1971, 1993],\n",
       " [123.80313611906149, 81.50376335721958, 2.0, 1971, 1993],\n",
       " [123.8027468526043, 81.5017056276948, 2.0, 1971, 1994],\n",
       " [123.80233613039867, 81.50158022000684, 2.0, 1971, 1994],\n",
       " [123.80334554932276, 81.50298512264499, 2.0, 1971, 1994],\n",
       " [123.8038833503067, 81.50261096330553, 2.0, 1971, 1994],\n",
       " [123.80455741690002, 81.50196755494196, 2.0, 1971, 1995],\n",
       " [123.80228816540992, 81.5040650121324, 2.0, 1971, 1995],\n",
       " [123.80245603217263, 81.50182798560769, 2.0, 1971, 1995],\n",
       " [123.80308711826973, 81.50376584071775, 2.0, 1971, 1995],\n",
       " [123.80270312485065, 81.50176911970142, 2.0, 1971, 1996],\n",
       " [123.80274516871296, 81.5040704478412, 2.0, 1971, 1996],\n",
       " [123.80278704652717, 81.50248876090747, 2.0, 1971, 1996],\n",
       " [123.80382256066547, 81.50332889309672, 2.0, 1971, 1996],\n",
       " [123.80415416539573, 81.50333833728406, 2.0, 1971, 1997],\n",
       " [123.80337077168186, 81.5026062786338, 2.0, 1971, 1997],\n",
       " [123.80215998657452, 81.50343997117008, 2.0, 1971, 1997],\n",
       " [123.80408876684344, 81.50183389149858, 2.0, 1971, 1997],\n",
       " [123.80433417197415, 81.50322585963225, 2.0, 1971, 1998],\n",
       " [123.80209424799489, 81.50395765847371, 2.0, 1971, 1998],\n",
       " [123.80280047302882, 81.5037335099507, 2.0, 1971, 1998],\n",
       " [123.80444889486687, 81.50295867740607, 2.0, 1971, 1998],\n",
       " [123.80213472207971, 81.50395893975363, 2.0, 1971, 1999],\n",
       " [123.8042079687069, 81.50200178937214, 2.0, 1971, 1999],\n",
       " [123.80312328402923, 81.50391583007138, 2.0, 1971, 1999],\n",
       " [123.80215240835228, 81.50376875778204, 2.0, 1971, 1999],\n",
       " [123.80278977334821, 81.50375373074095, 2.0, 1971, 2000],\n",
       " [123.80319732753593, 81.50225052365377, 2.0, 1971, 2000],\n",
       " [123.80318951429597, 81.50395021945141, 2.0, 1971, 2002],\n",
       " [123.80289041865694, 81.50148567652667, 2.0, 1971, 2002],\n",
       " [123.80418335318863, 81.50306181292942, 2.0, 1971, 2003],\n",
       " [123.80319989206396, 81.50363302402499, 2.0, 1971, 2003],\n",
       " [123.80423240305382, 81.50244680147672, 2.0, 1971, 2004],\n",
       " [123.80305271574706, 81.50312104629639, 2.0, 1971, 2004],\n",
       " [123.80386758044095, 81.50353346938482, 2.0, 1971, 2005],\n",
       " [123.80264050351157, 81.50132122256639, 2.0, 1971, 2005],\n",
       " [123.8034859738062, 81.50320863364558, 2.0, 1971, 2006],\n",
       " [123.80330480959807, 81.50333185991852, 2.0, 1971, 2006],\n",
       " [123.80442147935278, 81.50174285997716, 2.0, 1971, 2007],\n",
       " [123.80283997055979, 81.50151211061556, 2.0, 1971, 2007],\n",
       " [123.80283296763953, 81.50233619259052, 2.0, 1971, 2008],\n",
       " [123.80490755053043, 81.50344968769159, 2.0, 1971, 2012],\n",
       " [123.80196443459053, 81.50401983650995, 2.0, 1971, 2012],\n",
       " [123.80243821278788, 81.50340808209192, 2.0, 1971, 2012],\n",
       " [123.80247258574907, 81.50118130109487, 2.0, 1971, 2012],\n",
       " [123.80413892911318, 81.50224158362892, 2.0, 1971, 2012],\n",
       " [123.8048899495383, 81.50324334686928, 2.0, 1971, 2012],\n",
       " [123.80394772593925, 81.50323629428465, 2.0, 1971, 2012],\n",
       " [123.80258566626277, 81.50269411582934, 2.0, 1971, 2012],\n",
       " [123.80306570321348, 81.50339638260971, 2.0, 1971, 2012],\n",
       " [123.80274290088443, 81.5013795074162, 2.0, 1971, 2012],\n",
       " [123.80360447812171, 81.5020182223322, 2.0, 1971, 2012],\n",
       " [123.80249081700501, 81.50286326309595, 2.0, 1971, 2012],\n",
       " [123.80299885102059, 81.50213263693547, 2.0, 1971, 2012],\n",
       " [123.80430379117475, 81.50334300423461, 2.0, 1971, 2012],\n",
       " [123.80428078181004, 81.50323241761767, 2.0, 1971, 2012],\n",
       " [123.80202623628021, 81.50396666740899, 2.0, 1971, 2012],\n",
       " [123.80287217727512, 81.5021513779545, 2.0, 1971, 2012],\n",
       " [123.80289698946682, 81.50313481128147, 2.0, 1971, 2012],\n",
       " [123.80387062818117, 81.50323468890667, 2.0, 1971, 2012],\n",
       " [123.8046788748817, 81.50309677595737, 2.0, 1971, 2012],\n",
       " [123.8040244637017, 81.50238743231577, 2.0, 1971, 2012],\n",
       " [123.80217372293082, 81.5033504753379, 2.0, 1971, 2012],\n",
       " [123.80266050886831, 81.50176041254079, 2.0, 1971, 2012],\n",
       " [123.80325659212409, 81.50319787968692, 2.0, 1971, 2012],\n",
       " [123.80204474974151, 81.50402517123533, 2.0, 1971, 2012],\n",
       " [123.80351707977566, 81.50322092304884, 2.0, 1971, 2012],\n",
       " [123.80424514969242, 81.50200002768513, 2.0, 1971, 2012],\n",
       " [123.80181946907445, 81.5040257990274, 2.0, 1971, 2012],\n",
       " [123.80249530008722, 81.50282723793632, 2.0, 1971, 2012],\n",
       " [123.80423110223379, 81.50253558617025, 2.0, 1971, 2012]]"
      ]
     },
     "execution_count": 278,
     "metadata": {},
     "output_type": "execute_result"
    }
   ],
   "source": [
    "points[idx][religion]"
   ]
  },
  {
   "cell_type": "code",
   "execution_count": 283,
   "metadata": {},
   "outputs": [
    {
     "name": "stdout",
     "output_type": "stream",
     "text": [
      "1100\n",
      "1200\n",
      "1300\n",
      "1400\n",
      "1500\n",
      "1600\n",
      "1700\n",
      "1800\n",
      "1900\n",
      "2000\n"
     ]
    }
   ],
   "source": [
    "sortedPoints = []\n",
    "for row in religionData_2011:\n",
    "    idx = row[\"SA Code\"]\n",
    "    count += 1\n",
    "    if count % 100 == 0:\n",
    "        print count\n",
    "\n",
    "    for religion in religions:\n",
    "        sortedPoints += points[idx][religion]"
   ]
  },
  {
   "cell_type": "code",
   "execution_count": 284,
   "metadata": {},
   "outputs": [
    {
     "data": {
      "text/plain": [
       "626705"
      ]
     },
     "execution_count": 284,
     "metadata": {},
     "output_type": "execute_result"
    }
   ],
   "source": [
    "len(sortedPoints)"
   ]
  },
  {
   "cell_type": "code",
   "execution_count": 285,
   "metadata": {
    "collapsed": true
   },
   "outputs": [],
   "source": [
    "shuffle(sortedPoints)\n",
    "animatedPoints = []\n",
    "for sublist in sortedPoints:\n",
    "    for item in sublist:\n",
    "        animatedPoints.append(item)\n",
    "array.array('f', animatedPoints).tofile(open('animated-dotmap.bin', 'wb'))\n",
    "\n",
    "\n"
   ]
  },
  {
   "cell_type": "code",
   "execution_count": 286,
   "metadata": {},
   "outputs": [
    {
     "data": {
      "text/plain": [
       "3133525"
      ]
     },
     "execution_count": 286,
     "metadata": {},
     "output_type": "execute_result"
    }
   ],
   "source": [
    "len(animatedPoints)"
   ]
  },
  {
   "cell_type": "code",
   "execution_count": 287,
   "metadata": {},
   "outputs": [
    {
     "data": {
      "text/plain": [
       "[123.75895712990682,\n",
       " 81.46188656014272,\n",
       " 1.0,\n",
       " 1971,\n",
       " 1981,\n",
       " 123.75116176914402,\n",
       " 81.52266575585529,\n",
       " 5.0,\n",
       " 1972,\n",
       " 2012]"
      ]
     },
     "execution_count": 287,
     "metadata": {},
     "output_type": "execute_result"
    }
   ],
   "source": [
    "animatedPoints[0:10]"
   ]
  },
  {
   "cell_type": "code",
   "execution_count": 292,
   "metadata": {},
   "outputs": [],
   "source": [
    "count_1971 = 0\n",
    "for point in sortedPoints:\n",
    "    if point[3] == 1971:\n",
    "        count_1971 += 1"
   ]
  },
  {
   "cell_type": "code",
   "execution_count": 293,
   "metadata": {},
   "outputs": [
    {
     "data": {
      "text/plain": [
       "362403"
      ]
     },
     "execution_count": 293,
     "metadata": {},
     "output_type": "execute_result"
    }
   ],
   "source": [
    "count_1971"
   ]
  },
  {
   "cell_type": "code",
   "execution_count": 291,
   "metadata": {},
   "outputs": [
    {
     "data": {
      "text/plain": [
       "[123.77130595661673, 81.46950354030605, 5.0, 2001, 2012]"
      ]
     },
     "execution_count": 291,
     "metadata": {},
     "output_type": "execute_result"
    }
   ],
   "source": [
    "point"
   ]
  },
  {
   "cell_type": "code",
   "execution_count": 294,
   "metadata": {
    "collapsed": true
   },
   "outputs": [],
   "source": [
    "with open('bip_icr_interface_barriers_17.geo_.json') as f:\n",
    "    barrierData = json.load(f) "
   ]
  },
  {
   "cell_type": "code",
   "execution_count": 314,
   "metadata": {},
   "outputs": [
    {
     "name": "stdout",
     "output_type": "stream",
     "text": [
      "count: 102, exact: 17, partial: 35, combined: 21, blank: 29\n"
     ]
    }
   ],
   "source": [
    "count = 0\n",
    "exact = 0\n",
    "partial = 0\n",
    "combined = 0\n",
    "blank = 0\n",
    "for feature in barrierData[\"features\"]:\n",
    "    if feature[\"properties\"]['location'] == \"Belfast\":\n",
    "        count +=1\n",
    "        yearBuilt = feature[\"properties\"]['year_built']\n",
    "        if yearBuilt == \"\":\n",
    "            blank += 1\n",
    "        elif yearBuilt.endswith(\"s\"):\n",
    "            partial += 1\n",
    "        elif '&' in yearBuilt:\n",
    "            combined += 1\n",
    "        else:\n",
    "            exact += 1\n",
    "print \"count: %s, exact: %s, partial: %s, combined: %s, blank: %s\" % (count, exact, partial, combined, blank)"
   ]
  },
  {
   "cell_type": "code",
   "execution_count": 315,
   "metadata": {},
   "outputs": [
    {
     "data": {
      "text/plain": [
       "102"
      ]
     },
     "execution_count": 315,
     "metadata": {},
     "output_type": "execute_result"
    }
   ],
   "source": [
    "17 + 35 + 21 + 29"
   ]
  },
  {
   "cell_type": "code",
   "execution_count": 317,
   "metadata": {},
   "outputs": [
    {
     "data": {
      "text/plain": [
       "{u'AA1998': u'BELFAST WEST',\n",
       " u'AA2008': u'BELFAST WEST',\n",
       " u'HSCT': u'Belfast HSCT',\n",
       " u'Hectares': 11.3246,\n",
       " u'LGD1992NAME': u'BELFAST',\n",
       " u'SA': u'N00000825',\n",
       " u'SA2011': u'N00000825',\n",
       " u'SOA': u'95GG01S1',\n",
       " u'SOA2011': u'95GG01S1',\n",
       " u'SQ Km': u'0.11',\n",
       " u'Settlement2015(1)': u'BELFAST CITY',\n",
       " u'Settlement2015(2)': u'',\n",
       " u'Settlement2015(3)': u'',\n",
       " u'URBAN_RURAL(2015)': u'Urban',\n",
       " u'WARD1992': u'ANDERSONSTOWN',\n",
       " u'X_COORD': 329619.0,\n",
       " u'Y_COORD': 370890.0}"
      ]
     },
     "execution_count": 317,
     "metadata": {},
     "output_type": "execute_result"
    }
   ],
   "source": [
    "belfastGeoJSON[\"features\"][0][\"properties\"]"
   ]
  },
  {
   "cell_type": "code",
   "execution_count": 319,
   "metadata": {},
   "outputs": [],
   "source": [
    "wards1992 = {}\n",
    "for feature in belfastGeoJSON[\"features\"]:\n",
    "    properties = feature[\"properties\"]\n",
    "    ward = properties[\"WARD1992\"]\n",
    "    if not ward in wards1992:\n",
    "        wards1992[ward] = []\n",
    "    wards1992[ward].append(properties['SA2011'])"
   ]
  },
  {
   "cell_type": "code",
   "execution_count": 321,
   "metadata": {},
   "outputs": [
    {
     "data": {
      "text/plain": [
       "74"
      ]
     },
     "execution_count": 321,
     "metadata": {},
     "output_type": "execute_result"
    }
   ],
   "source": [
    "len(wards1992.keys())"
   ]
  },
  {
   "cell_type": "code",
   "execution_count": 326,
   "metadata": {},
   "outputs": [
    {
     "data": {
      "text/plain": [
       "[u'ANDERSONSTOWN',\n",
       " u'ARDOYNE',\n",
       " u'BALLYHACKAMORE',\n",
       " u'BALLYHANWOOD',\n",
       " u'BALLYMACARRETT',\n",
       " u'BALLYNAFEIGH',\n",
       " u'BALLYSILLAN',\n",
       " u'BEECHILL',\n",
       " u'BEECHMOUNT',\n",
       " u'BELLEVUE',\n",
       " u'BELMONT',\n",
       " u'BLACKSTAFF',\n",
       " u'BLOOMFIELD (BELFAST)',\n",
       " u'BOTANIC',\n",
       " u'CAIRNSHILL',\n",
       " u'CARROWREAGH',\n",
       " u'CARRYDUFF EAST',\n",
       " u'CARRYDUFF WEST',\n",
       " u'CASTLEVIEW',\n",
       " u'CAVEHILL',\n",
       " u'CHERRYVALLEY',\n",
       " u'CHICHESTER PARK',\n",
       " u'CLIFTONVILLE',\n",
       " u'CLONARD',\n",
       " u'CREGAGH',\n",
       " u'CRUMLIN (BELFAST)',\n",
       " u'DOWNSHIRE',\n",
       " u'DUNCAIRN',\n",
       " u'DUNDONALD',\n",
       " u'ENLER',\n",
       " u'FALLS',\n",
       " u'FALLS PARK',\n",
       " u'FINAGHY',\n",
       " u'FORTWILLIAM',\n",
       " u'GALWALLY',\n",
       " u'GILNAHIRK',\n",
       " u'GLEN ROAD',\n",
       " u'GLENCAIRN',\n",
       " u'GLENCOLIN',\n",
       " u'GRAHAMS BRIDGE',\n",
       " u'HIGHFIELD',\n",
       " u'HILLFOOT',\n",
       " u'ISLAND',\n",
       " u'KNOCK',\n",
       " u'KNOCKBRACKEN',\n",
       " u'LADYBROOK',\n",
       " u'LEGONIEL',\n",
       " u'LISNASHARRAGH',\n",
       " u'LOWER BRANIEL',\n",
       " u'MALONE',\n",
       " u'MINNOWBURN',\n",
       " u'MONEYREAGH',\n",
       " u'MUSGRAVE',\n",
       " u'NEW LODGE',\n",
       " u'NEWTOWNBREDA',\n",
       " u'ORANGEFIELD',\n",
       " u'RAVENHILL',\n",
       " u'ROSETTA',\n",
       " u'SHAFTESBURY',\n",
       " u'SHANKILL',\n",
       " u'STORMONT',\n",
       " u'STRANMILLIS',\n",
       " u'SYDENHAM',\n",
       " u'THE MOUNT',\n",
       " u'TULLYCARNET',\n",
       " u'UPPER BRANIEL',\n",
       " u'UPPER MALONE',\n",
       " u'UPPER SPRINGFIELD',\n",
       " u'WATER WORKS',\n",
       " u'WHITEROCK',\n",
       " u'WINDSOR',\n",
       " u'WOODSTOCK',\n",
       " u'WOODVALE',\n",
       " u'WYNCHURCH']"
      ]
     },
     "execution_count": 326,
     "metadata": {},
     "output_type": "execute_result"
    }
   ],
   "source": [
    "sorted(wards1992.keys())"
   ]
  },
  {
   "cell_type": "code",
   "execution_count": 325,
   "metadata": {},
   "outputs": [
    {
     "data": {
      "text/plain": [
       "['a', 'c', 'd']"
      ]
     },
     "execution_count": 325,
     "metadata": {},
     "output_type": "execute_result"
    }
   ],
   "source": [
    "sorted(['a','c','d'])"
   ]
  },
  {
   "cell_type": "code",
   "execution_count": 327,
   "metadata": {
    "collapsed": true
   },
   "outputs": [],
   "source": [
    "electoralAreas = {\n",
    "    'Balmoral': ['BLACKSTAFF', 'FINAGHY', 'MALONE', 'MUSGRAVE', 'UPPER MALONE', 'WINDSOR'],\n",
    "    'Castle': ['BELLEVUE', 'CASTLEVIEW', 'CAVEHILL', 'CHICHESTER PARK', 'DUNCAIRN', 'FORTWILLIAM'],\n",
    "    'Court': ['CRUMLIN (BELFAST)', 'GLENCAIRN', 'HIGHFIELD','SHANKILL', 'WOODVALE'],\n",
    "    'Laganbank': ['BALLYNAFEIGH', 'BOTANIC', 'ROSETTA', 'SHAFTESBURY', 'STRANMILLIS'],\n",
    "    'Lower Falls': ['BEECHMOUNT', 'CLONARD', 'FALLS', 'UPPER SPRINGFIELD', 'WHITEROCK'],\n",
    "    'Oldpark': ['ARDOYNE', 'BALLYSILLAN', 'CLIFTONVILLE', 'LEGONIEL', 'NEW LODGE', 'WATER WORKS'],\n",
    "    'Pottinger': ['BALLYMACARRETT', 'BLOOMFIELD (BELFAST)', 'ORANGEFIELD', 'RAVENHILL', 'THE MOUNT', 'WOODSTOCK'],\n",
    "    'Upper Falls': ['ANDERSONSTOWN', 'FALLS PARK', 'GLEN ROAD', 'GLENCOLIN', 'LADYBROOK'],\n",
    "    'Victoria': ['BALLYHACKAMORE', 'BELMONT', 'CHERRYVALLEY', 'ISLAND', 'KNOCK', 'STORMONT', 'SYDENHAM']\n",
    "}"
   ]
  },
  {
   "cell_type": "code",
   "execution_count": 329,
   "metadata": {},
   "outputs": [
    {
     "data": {
      "text/plain": [
       "['Court',\n",
       " 'Lower Falls',\n",
       " 'Laganbank',\n",
       " 'Pottinger',\n",
       " 'Oldpark',\n",
       " 'Castle',\n",
       " 'Upper Falls',\n",
       " 'Balmoral',\n",
       " 'Victoria']"
      ]
     },
     "execution_count": 329,
     "metadata": {},
     "output_type": "execute_result"
    }
   ],
   "source": [
    "electoralAreas.keys()"
   ]
  },
  {
   "cell_type": "code",
   "execution_count": 330,
   "metadata": {
    "collapsed": true
   },
   "outputs": [],
   "source": [
    "wards2Electoral = {}\n",
    "for key in electoralAreas:\n",
    "    wards = electoralAreas[key]\n",
    "    for ward in wards:\n",
    "        wards2Electoral[ward] = key"
   ]
  },
  {
   "cell_type": "code",
   "execution_count": 331,
   "metadata": {},
   "outputs": [
    {
     "data": {
      "text/plain": [
       "{'ANDERSONSTOWN': 'Upper Falls',\n",
       " 'ARDOYNE': 'Oldpark',\n",
       " 'BALLYHACKAMORE': 'Victoria',\n",
       " 'BALLYMACARRETT': 'Pottinger',\n",
       " 'BALLYNAFEIGH': 'Laganbank',\n",
       " 'BALLYSILLAN': 'Oldpark',\n",
       " 'BEECHMOUNT': 'Lower Falls',\n",
       " 'BELLEVUE': 'Castle',\n",
       " 'BELMONT': 'Victoria',\n",
       " 'BLACKSTAFF': 'Balmoral',\n",
       " 'BLOOMFIELD (BELFAST)': 'Pottinger',\n",
       " 'BOTANIC': 'Laganbank',\n",
       " 'CASTLEVIEW': 'Castle',\n",
       " 'CAVEHILL': 'Castle',\n",
       " 'CHERRYVALLEY': 'Victoria',\n",
       " 'CHICHESTER PARK': 'Castle',\n",
       " 'CLIFTONVILLE': 'Oldpark',\n",
       " 'CLONARD': 'Lower Falls',\n",
       " 'CRUMLIN (BELFAST)': 'Court',\n",
       " 'DUNCAIRN': 'Castle',\n",
       " 'FALLS': 'Lower Falls',\n",
       " 'FALLS PARK': 'Upper Falls',\n",
       " 'FINAGHY': 'Balmoral',\n",
       " 'FORTWILLIAM': 'Castle',\n",
       " 'GLEN ROAD': 'Upper Falls',\n",
       " 'GLENCAIRN': 'Court',\n",
       " 'GLENCOLIN': 'Upper Falls',\n",
       " 'HIGHFIELD': 'Court',\n",
       " 'ISLAND': 'Victoria',\n",
       " 'KNOCK': 'Victoria',\n",
       " 'LADYBROOK': 'Upper Falls',\n",
       " 'LEGONIEL': 'Oldpark',\n",
       " 'MALONE': 'Balmoral',\n",
       " 'MUSGRAVE': 'Balmoral',\n",
       " 'NEW LODGE': 'Oldpark',\n",
       " 'ORANGEFIELD': 'Pottinger',\n",
       " 'RAVENHILL': 'Pottinger',\n",
       " 'ROSETTA': 'Laganbank',\n",
       " 'SHAFTESBURY': 'Laganbank',\n",
       " 'SHANKILL': 'Court',\n",
       " 'STORMONT': 'Victoria',\n",
       " 'STRANMILLIS': 'Laganbank',\n",
       " 'SYDENHAM': 'Victoria',\n",
       " 'THE MOUNT': 'Pottinger',\n",
       " 'UPPER MALONE': 'Balmoral',\n",
       " 'UPPER SPRINGFIELD': 'Lower Falls',\n",
       " 'WATER WORKS': 'Oldpark',\n",
       " 'WHITEROCK': 'Lower Falls',\n",
       " 'WINDSOR': 'Balmoral',\n",
       " 'WOODSTOCK': 'Pottinger',\n",
       " 'WOODVALE': 'Court'}"
      ]
     },
     "execution_count": 331,
     "metadata": {},
     "output_type": "execute_result"
    }
   ],
   "source": [
    "wards2Electoral"
   ]
  },
  {
   "cell_type": "code",
   "execution_count": 346,
   "metadata": {
    "collapsed": true
   },
   "outputs": [],
   "source": [
    "wards2colors = {}\n",
    "for ward in wards1992.keys():\n",
    "    wards2colors[ward] = '#%02x%02x%02x' % (randint(0,255), randint(0,255), randint(0,255))"
   ]
  },
  {
   "cell_type": "code",
   "execution_count": 410,
   "metadata": {},
   "outputs": [
    {
     "data": {
      "text/plain": [
       "{u'ANDERSONSTOWN': '#dff7c7',\n",
       " u'ARDOYNE': '#b6dc74',\n",
       " u'BALLYHACKAMORE': '#b6ea80',\n",
       " u'BALLYHANWOOD': '#fa0c07',\n",
       " u'BALLYMACARRETT': '#61eff1',\n",
       " u'BALLYNAFEIGH': '#ab3db9',\n",
       " u'BALLYSILLAN': '#520a25',\n",
       " u'BEECHILL': '#a2260a',\n",
       " u'BEECHMOUNT': '#e478df',\n",
       " u'BELLEVUE': '#beb79a',\n",
       " u'BELMONT': '#ed7521',\n",
       " u'BLACKSTAFF': '#742a54',\n",
       " u'BLOOMFIELD (BELFAST)': '#e4ccf8',\n",
       " u'BOTANIC': '#7494ef',\n",
       " u'CAIRNSHILL': '#cf56d0',\n",
       " u'CARROWREAGH': '#15bc0f',\n",
       " u'CARRYDUFF EAST': '#9ff788',\n",
       " u'CARRYDUFF WEST': '#bfb27b',\n",
       " u'CASTLEVIEW': '#21d31a',\n",
       " u'CAVEHILL': '#d2c754',\n",
       " u'CHERRYVALLEY': '#84ee25',\n",
       " u'CHICHESTER PARK': '#3e5b51',\n",
       " u'CLIFTONVILLE': '#d48305',\n",
       " u'CLONARD': '#8ae213',\n",
       " u'CREGAGH': '#b44b68',\n",
       " u'CRUMLIN (BELFAST)': '#8e278d',\n",
       " u'DOWNSHIRE': '#f64e2a',\n",
       " u'DUNCAIRN': '#f273c3',\n",
       " u'DUNDONALD': '#983b2b',\n",
       " u'ENLER': '#6c856c',\n",
       " u'FALLS': '#d03f3e',\n",
       " u'FALLS PARK': '#02b3ba',\n",
       " u'FINAGHY': '#47156d',\n",
       " u'FORTWILLIAM': '#154c79',\n",
       " u'GALWALLY': '#6d8513',\n",
       " u'GILNAHIRK': '#857d4d',\n",
       " u'GLEN ROAD': '#dda7cb',\n",
       " u'GLENCAIRN': '#a74be8',\n",
       " u'GLENCOLIN': '#3f2fa0',\n",
       " u'GRAHAMS BRIDGE': '#cd6487',\n",
       " u'HIGHFIELD': '#fd78bd',\n",
       " u'HILLFOOT': '#c84bfe',\n",
       " u'ISLAND': '#b600e6',\n",
       " u'KNOCK': '#4f4881',\n",
       " u'KNOCKBRACKEN': '#1d8706',\n",
       " u'LADYBROOK': '#32981b',\n",
       " u'LEGONIEL': '#023a37',\n",
       " u'LISNASHARRAGH': '#d92e08',\n",
       " u'LOWER BRANIEL': '#0b6071',\n",
       " u'MALONE': '#1f8c20',\n",
       " u'MINNOWBURN': '#7c6904',\n",
       " u'MONEYREAGH': '#e65f62',\n",
       " u'MUSGRAVE': '#0691ad',\n",
       " u'NEW LODGE': '#d7a92f',\n",
       " u'NEWTOWNBREDA': '#8a99ab',\n",
       " u'ORANGEFIELD': '#653802',\n",
       " u'RAVENHILL': '#fd4321',\n",
       " u'ROSETTA': '#ba1b02',\n",
       " u'SHAFTESBURY': '#fa6f28',\n",
       " u'SHANKILL': '#8aa31f',\n",
       " u'STORMONT': '#45bcd0',\n",
       " u'STRANMILLIS': '#291625',\n",
       " u'SYDENHAM': '#e6953f',\n",
       " u'THE MOUNT': '#0d1794',\n",
       " u'TULLYCARNET': '#c1b2cf',\n",
       " u'UPPER BRANIEL': '#ef9a69',\n",
       " u'UPPER MALONE': '#4c7bf9',\n",
       " u'UPPER SPRINGFIELD': '#a4bef4',\n",
       " u'WATER WORKS': '#cac997',\n",
       " u'WHITEROCK': '#923bdc',\n",
       " u'WINDSOR': '#610bf5',\n",
       " u'WOODSTOCK': '#9193de',\n",
       " u'WOODVALE': '#8a7fd1',\n",
       " u'WYNCHURCH': '#a29f8b'}"
      ]
     },
     "execution_count": 410,
     "metadata": {},
     "output_type": "execute_result"
    }
   ],
   "source": [
    "wards2colors"
   ]
  },
  {
   "cell_type": "code",
   "execution_count": 494,
   "metadata": {
    "collapsed": true
   },
   "outputs": [],
   "source": [
    "oldWards2Wards = {\n",
    "    'Duncairn': ['BELLEVUE', 'CASTLEVIEW', 'DUNCAIRN','FORTWILLIAM'], \n",
    "    'Dock': ['NEW LODGE'],\n",
    "    'Clifton': ['ARDOYNE', 'BALLYSILLAN', 'CAVEHILL', 'CLIFTONVILLE', 'CHICHESTER PARK', 'WATER WORKS'], \n",
    "    'Shankill': ['CRUMLIN (BELFAST)', 'LEGONIEL'],\n",
    "    'Court': ['SHANKILL'],\n",
    "    'Woodvale': ['GLENCAIRN','HIGHFIELD','WOODVALE'],\n",
    "    'Smithfield': ['SHAFTESBURY'],  \n",
    "    'Falls': ['GLEN ROAD', 'GLENCOLIN', 'LADYBROOK', 'UPPER SPRINGFIELD', 'WHITEROCK'],\n",
    "    'St Anne': ['ANDERSONSTOWN', 'CLONARD','FALLS','FALLS PARK', 'BEECHMOUNT',  'MUSGRAVE'],\n",
    "    'St George': ['BLACKSTAFF'],\n",
    "    'Windsor': ['FINAGHY','MALONE', 'UPPER MALONE', 'WINDSOR'],\n",
    "    'Cromac': ['BOTANIC','STRANMILLIS'],\n",
    "    'Ormeau': ['BALLYNAFEIGH', 'ROSETTA'],\n",
    "    'Pottinger':  ['BALLYMACARRETT', 'BLOOMFIELD (BELFAST)', 'ORANGEFIELD', 'RAVENHILL', 'THE MOUNT', 'WOODSTOCK'],\n",
    "    'Victoria': ['BALLYHACKAMORE', 'BELMONT', 'CHERRYVALLEY', 'ISLAND', 'KNOCK', 'STORMONT', 'SYDENHAM']\n",
    "}"
   ]
  },
  {
   "cell_type": "code",
   "execution_count": 495,
   "metadata": {
    "collapsed": true
   },
   "outputs": [],
   "source": [
    "hex = [\"#48b3a3\",\n",
    "\"#b454c2\",\n",
    "\"#63b646\",\n",
    "\"#696acf\",\n",
    "\"#b3b144\",\n",
    "\"#d54787\",\n",
    "\"#5eb778\",\n",
    "\"#cc552c\",\n",
    "\"#6290cd\",\n",
    "\"#de953c\",\n",
    "\"#d28ecd\",\n",
    "\"#5b7934\",\n",
    "\"#985184\",\n",
    "\"#a77c42\",\n",
    "\"#ca5c5d\"]\n",
    "oldWards2colors = {}\n",
    "for ward in oldWards2Wards.keys():\n",
    "    oldWards2colors[ward] = '#%02x%02x%02x' % (randint(0,255), randint(0,255), randint(0,255))"
   ]
  },
  {
   "cell_type": "code",
   "execution_count": 496,
   "metadata": {},
   "outputs": [
    {
     "data": {
      "text/plain": [
       "{'Clifton': '#de953c',\n",
       " 'Court': '#48b3a3',\n",
       " 'Cromac': '#cc552c',\n",
       " 'Dock': '#5b7934',\n",
       " 'Duncairn': '#b454c2',\n",
       " 'Falls': '#d28ecd',\n",
       " 'Ormeau': '#a77c42',\n",
       " 'Pottinger': '#985184',\n",
       " 'Shankill': '#d54787',\n",
       " 'Smithfield': '#b3b144',\n",
       " 'St Anne': '#6290cd',\n",
       " 'St George': '#63b646',\n",
       " 'Victoria': '#696acf',\n",
       " 'Windsor': '#ca5c5d',\n",
       " 'Woodvale': '#5eb778'}"
      ]
     },
     "execution_count": 496,
     "metadata": {},
     "output_type": "execute_result"
    }
   ],
   "source": [
    "oldWards2colors \n",
    "hex = [\"#48b3a3\",\n",
    "\"#b454c2\",\n",
    "\"#63b646\",\n",
    "\"#696acf\",\n",
    "\"#b3b144\",\n",
    "\"#d54787\",\n",
    "\"#5eb778\",\n",
    "\"#cc552c\",\n",
    "\"#6290cd\",\n",
    "\"#de953c\",\n",
    "\"#d28ecd\",\n",
    "\"#5b7934\",\n",
    "\"#985184\",\n",
    "\"#a77c42\",\n",
    "\"#ca5c5d\"]\n",
    "i = 0\n",
    "for ward in oldWards2Wards.keys():\n",
    "    oldWards2colors[ward] = hex[i]   \n",
    "    i += 1\n",
    "oldWards2colors"
   ]
  },
  {
   "cell_type": "code",
   "execution_count": 497,
   "metadata": {
    "collapsed": true
   },
   "outputs": [],
   "source": [
    "wards2OldWards = {}\n",
    "for key in oldWards2Wards:\n",
    "    wards = oldWards2Wards[key]\n",
    "    for ward in wards:\n",
    "        wards2OldWards[ward] = key"
   ]
  },
  {
   "cell_type": "code",
   "execution_count": 498,
   "metadata": {
    "scrolled": true
   },
   "outputs": [
    {
     "data": {
      "text/plain": [
       "{'ANDERSONSTOWN': 'St Anne',\n",
       " 'ARDOYNE': 'Clifton',\n",
       " 'BALLYHACKAMORE': 'Victoria',\n",
       " 'BALLYMACARRETT': 'Pottinger',\n",
       " 'BALLYNAFEIGH': 'Ormeau',\n",
       " 'BALLYSILLAN': 'Clifton',\n",
       " 'BEECHMOUNT': 'St Anne',\n",
       " 'BELLEVUE': 'Duncairn',\n",
       " 'BELMONT': 'Victoria',\n",
       " 'BLACKSTAFF': 'St George',\n",
       " 'BLOOMFIELD (BELFAST)': 'Pottinger',\n",
       " 'BOTANIC': 'Cromac',\n",
       " 'CASTLEVIEW': 'Duncairn',\n",
       " 'CAVEHILL': 'Clifton',\n",
       " 'CHERRYVALLEY': 'Victoria',\n",
       " 'CHICHESTER PARK': 'Clifton',\n",
       " 'CLIFTONVILLE': 'Clifton',\n",
       " 'CLONARD': 'St Anne',\n",
       " 'CRUMLIN (BELFAST)': 'Shankill',\n",
       " 'DUNCAIRN': 'Duncairn',\n",
       " 'FALLS': 'St Anne',\n",
       " 'FALLS PARK': 'St Anne',\n",
       " 'FINAGHY': 'Windsor',\n",
       " 'FORTWILLIAM': 'Duncairn',\n",
       " 'GLEN ROAD': 'Falls',\n",
       " 'GLENCAIRN': 'Woodvale',\n",
       " 'GLENCOLIN': 'Falls',\n",
       " 'HIGHFIELD': 'Woodvale',\n",
       " 'ISLAND': 'Victoria',\n",
       " 'KNOCK': 'Victoria',\n",
       " 'LADYBROOK': 'Falls',\n",
       " 'LEGONIEL': 'Shankill',\n",
       " 'MALONE': 'Windsor',\n",
       " 'MUSGRAVE': 'St Anne',\n",
       " 'NEW LODGE': 'Dock',\n",
       " 'ORANGEFIELD': 'Pottinger',\n",
       " 'RAVENHILL': 'Pottinger',\n",
       " 'ROSETTA': 'Ormeau',\n",
       " 'SHAFTESBURY': 'Smithfield',\n",
       " 'SHANKILL': 'Court',\n",
       " 'STORMONT': 'Victoria',\n",
       " 'STRANMILLIS': 'Cromac',\n",
       " 'SYDENHAM': 'Victoria',\n",
       " 'THE MOUNT': 'Pottinger',\n",
       " 'UPPER MALONE': 'Windsor',\n",
       " 'UPPER SPRINGFIELD': 'Falls',\n",
       " 'WATER WORKS': 'Clifton',\n",
       " 'WHITEROCK': 'Falls',\n",
       " 'WINDSOR': 'Windsor',\n",
       " 'WOODSTOCK': 'Pottinger',\n",
       " 'WOODVALE': 'Woodvale'}"
      ]
     },
     "execution_count": 498,
     "metadata": {},
     "output_type": "execute_result"
    }
   ],
   "source": [
    "wards2OldWards"
   ]
  },
  {
   "cell_type": "code",
   "execution_count": 500,
   "metadata": {},
   "outputs": [],
   "source": [
    "# For a given oldWard get all the small areas and total up the the average % of pop in general that they represent\n",
    "saPercentages = {}\n",
    "\n",
    "for oldWard in oldWards2Wards:\n",
    "    saPercentages[oldWard] = {'total':0, 'smallAreas': {}}\n",
    "    for ward in oldWards2Wards[oldWard]:\n",
    "        for sa in wards1992[ward]:\n",
    "            row = religionData_1971[religionData_1971SaIdx[sa]]\n",
    "            saPercentages[oldWard]['total'] += row['All usual residents']\n",
    "            saPercentages[oldWard]['smallAreas'][sa] = {'total': row['All usual residents']}\n",
    "\n",
    "            "
   ]
  },
  {
   "cell_type": "code",
   "execution_count": 501,
   "metadata": {},
   "outputs": [
    {
     "name": "stdout",
     "output_type": "stream",
     "text": [
      "Clifton 38535\n",
      "Court 12602\n",
      "Cromac 12056\n",
      "Dock 7115\n",
      "Duncairn 25094\n",
      "Falls 34196\n",
      "Ormeau 11397\n",
      "Pottinger 37592\n",
      "Shankill 14329\n",
      "Smithfield 9200\n",
      "St Anne 40760\n",
      "St George 7230\n",
      "Victoria 32627\n",
      "Windsor 16633\n",
      "Woodvale 19519\n",
      "318885\n"
     ]
    }
   ],
   "source": [
    "total = 0\n",
    "for oldWard in sorted(oldWards2Wards.keys()):\n",
    "    print oldWard, saPercentages[oldWard]['total']\n",
    "    total += saPercentages[oldWard]['total']\n",
    "print total"
   ]
  },
  {
   "cell_type": "code",
   "execution_count": 455,
   "metadata": {},
   "outputs": [
    {
     "data": {
      "text/plain": [
       "{'All usual residents': 219,\n",
       " 'COA2001_1': '95GG010003',\n",
       " 'Religion: Catholic': 178,\n",
       " 'Religion: Church of Ireland': 0,\n",
       " 'Religion: Methodist Church in Ireland': 0,\n",
       " 'Religion: No religion': 0,\n",
       " 'Religion: Other Christian (including Christian related)': 0,\n",
       " 'Religion: Other religions': 0,\n",
       " 'Religion: Presbyterian Church in Ireland': 0,\n",
       " 'Religion: Religion not stated': 41,\n",
       " 'SA Code': 'N00000826'}"
      ]
     },
     "execution_count": 455,
     "metadata": {},
     "output_type": "execute_result"
    }
   ],
   "source": [
    "religionData_1971[1]"
   ]
  },
  {
   "cell_type": "code",
   "execution_count": 456,
   "metadata": {},
   "outputs": [],
   "source": [
    "religionData_1971SaIdx = {}\n",
    "i = 0 \n",
    "for row in religionData_1971:\n",
    "    sa = row['SA Code']\n",
    "    if sa not in religionData_1971SaIdx:\n",
    "        religionData_1971SaIdx[sa] = i\n",
    "    else:\n",
    "        print \"ERROR\"\n",
    "    i += 1\n",
    "    "
   ]
  },
  {
   "cell_type": "code",
   "execution_count": 516,
   "metadata": {
    "collapsed": true
   },
   "outputs": [],
   "source": [
    "religionData_1981SaIdx = {}\n",
    "i = 0 \n",
    "for row in religionData_1981:\n",
    "    sa = row['SA Code']\n",
    "    if sa not in religionData_1981SaIdx:\n",
    "        religionData_1981SaIdx[sa] = i\n",
    "    else:\n",
    "        print \"ERROR\"\n",
    "    i += 1"
   ]
  },
  {
   "cell_type": "code",
   "execution_count": 517,
   "metadata": {
    "collapsed": true
   },
   "outputs": [],
   "source": [
    "religionData_1991SaIdx = {}\n",
    "i = 0 \n",
    "for row in religionData_1991:\n",
    "    sa = row['SA Code']\n",
    "    if sa not in religionData_1991SaIdx:\n",
    "        religionData_1991SaIdx[sa] = i\n",
    "    else:\n",
    "        print \"ERROR\"\n",
    "    i += 1"
   ]
  },
  {
   "cell_type": "code",
   "execution_count": 518,
   "metadata": {
    "collapsed": true
   },
   "outputs": [],
   "source": [
    "religionData_2001SaIdx = {}\n",
    "i = 0 \n",
    "for row in religionData_2001:\n",
    "    sa = row['SA Code']\n",
    "    if sa not in religionData_2001SaIdx:\n",
    "        religionData_2001SaIdx[sa] = i\n",
    "    else:\n",
    "        print \"ERROR\"\n",
    "    i += 1"
   ]
  },
  {
   "cell_type": "code",
   "execution_count": 519,
   "metadata": {
    "collapsed": true
   },
   "outputs": [],
   "source": [
    "religionData_2011SaIdx = {}\n",
    "i = 0 \n",
    "for row in religionData_2011:\n",
    "    sa = row['SA Code']\n",
    "    if sa not in religionData_2011SaIdx:\n",
    "        religionData_2011SaIdx[sa] = i\n",
    "    else:\n",
    "        print \"ERROR\"\n",
    "    i += 1"
   ]
  },
  {
   "cell_type": "code",
   "execution_count": null,
   "metadata": {
    "collapsed": true
   },
   "outputs": [],
   "source": []
  },
  {
   "cell_type": "code",
   "execution_count": 514,
   "metadata": {},
   "outputs": [],
   "source": [
    "for oldWard in sorted(oldWards2Wards.keys()):\n",
    "    for sa in saPercentages[oldWard]['smallAreas']:\n",
    "        saPercentages[oldWard]['smallAreas'][sa]['percentage'] = 1.0*saPercentages[oldWard]['smallAreas'][sa]['total']/saPercentages[oldWard]['total'] \n",
    "                                                                                                "
   ]
  },
  {
   "cell_type": "code",
   "execution_count": 515,
   "metadata": {},
   "outputs": [
    {
     "data": {
      "text/plain": [
       "{u'N00001217': {'percentage': 0.02218351349966699, 'total': 433},\n",
       " u'N00001218': {'percentage': 0.01080998001946821, 'total': 211},\n",
       " u'N00001219': {'percentage': 0.0, 'total': 0},\n",
       " u'N00001220': {'percentage': 0.0, 'total': 0},\n",
       " u'N00001221': {'percentage': 0.0, 'total': 0},\n",
       " u'N00001222': {'percentage': 0.0, 'total': 0},\n",
       " u'N00001223': {'percentage': 0.04042215277421999, 'total': 789},\n",
       " u'N00001224': {'percentage': 0.016957835954710794, 'total': 331},\n",
       " u'N00001225': {'percentage': 0.01080998001946821, 'total': 211},\n",
       " u'N00001226': {'percentage': 0.0264870126543368, 'total': 517},\n",
       " u'N00001227': {'percentage': 0.018648496336902506, 'total': 364},\n",
       " u'N00001228': {'percentage': 0.04441825913212767, 'total': 867},\n",
       " u'N00001229': {'percentage': 0.0273579589118295, 'total': 534},\n",
       " u'N00001230': {'percentage': 0.013883907987089503, 'total': 271},\n",
       " u'N00001246': {'percentage': 0.015215943439725396, 'total': 297},\n",
       " u'N00001247': {'percentage': 0.02366924535068395, 'total': 462},\n",
       " u'N00001248': {'percentage': 0.014037604385470567, 'total': 274},\n",
       " u'N00001249': {'percentage': 0.02110763871099954, 'total': 412},\n",
       " u'N00001250': {'percentage': 0.0, 'total': 0},\n",
       " u'N00001251': {'percentage': 0.030688047543419233, 'total': 599},\n",
       " u'N00001252': {'percentage': 0.01741892514985399, 'total': 340},\n",
       " u'N00001253': {'percentage': 0.022029817101285928, 'total': 430},\n",
       " u'N00001254': {'percentage': 0.017213996618679235, 'total': 336},\n",
       " u'N00001255': {'percentage': 0.023720477483477637, 'total': 463},\n",
       " u'N00001256': {'percentage': 0.017880014344997183, 'total': 349},\n",
       " u'N00001257': {'percentage': 0.02243967416363543, 'total': 438},\n",
       " u'N00001258': {'percentage': 0.03283979712075414, 'total': 641},\n",
       " u'N00001259': {'percentage': 0.018648496336902506, 'total': 364},\n",
       " u'N00001260': {'percentage': 0.045135508991239304, 'total': 881},\n",
       " u'N00001261': {'percentage': 0.018648496336902506, 'total': 364},\n",
       " u'N00001262': {'percentage': 0.03355704697986577, 'total': 655},\n",
       " u'N00001623': {'percentage': 0.02925354782519596, 'total': 571},\n",
       " u'N00001624': {'percentage': 0.012603104667247298, 'total': 246},\n",
       " u'N00001625': {'percentage': 0.03263486858957938, 'total': 637},\n",
       " u'N00001626': {'percentage': 0.012961729596803116, 'total': 253},\n",
       " u'N00001627': {'percentage': 0.02218351349966699, 'total': 433},\n",
       " u'N00001628': {'percentage': 0.022388442030841744, 'total': 437},\n",
       " u'N00001629': {'percentage': 0.01536963983810646, 'total': 300},\n",
       " u'N00001630': {'percentage': 0.013269122393565244, 'total': 259},\n",
       " u'N00001631': {'percentage': 0.01306419386239049, 'total': 255},\n",
       " u'N00001632': {'percentage': 0.061376095086838466, 'total': 1198},\n",
       " u'N00001633': {'percentage': 0.03309595778472258, 'total': 646},\n",
       " u'N00001634': {'percentage': 0.013576515190327373, 'total': 265},\n",
       " u'N00001635': {'percentage': 0.017982478610584558, 'total': 351},\n",
       " u'N00001636': {'percentage': 0.007531123520672166, 'total': 147},\n",
       " u'N00001637': {'percentage': 0.029817101285926535, 'total': 582},\n",
       " u'N00001638': {'percentage': 0.022234745632460678, 'total': 434},\n",
       " u'N00001639': {'percentage': 0.017828782212203496, 'total': 348},\n",
       " u'N00001640': {'percentage': 0.016599211025154978, 'total': 324}}"
      ]
     },
     "execution_count": 515,
     "metadata": {},
     "output_type": "execute_result"
    }
   ],
   "source": [
    "saPercentages[oldWard]['smallAreas']"
   ]
  },
  {
   "cell_type": "code",
   "execution_count": 530,
   "metadata": {},
   "outputs": [],
   "source": [
    "saPercentages = {}\n",
    "\n",
    "for oldWard in oldWards2Wards:\n",
    "    saPercentages[oldWard] = {'total':0, 'smallAreas': {}}\n",
    "    for ward in oldWards2Wards[oldWard]:\n",
    "        for sa in wards1992[ward]:\n",
    "            row = religionData_1971[religionData_1971SaIdx[sa]]\n",
    "            saPercentages[oldWard]['total'] += row['All usual residents']\n",
    "            saPercentages[oldWard]['smallAreas'][sa] = {'total': row['All usual residents']}\n",
    "            row = religionData_1981[religionData_1981SaIdx[sa]]\n",
    "            saPercentages[oldWard]['total'] += row['All usual residents']\n",
    "            saPercentages[oldWard]['smallAreas'][sa]['total'] += row['All usual residents']\n",
    "            row = religionData_1991[religionData_1991SaIdx[sa]]\n",
    "            saPercentages[oldWard]['total'] += row['All usual residents']\n",
    "            saPercentages[oldWard]['smallAreas'][sa]['total'] += row['All usual residents']\n",
    "            row = religionData_2001[religionData_2001SaIdx[sa]]\n",
    "            saPercentages[oldWard]['total'] += int(row['All usual residents'])\n",
    "            saPercentages[oldWard]['smallAreas'][sa]['total'] += int(row['All usual residents'])\n",
    "            row = religionData_2011[religionData_2011SaIdx[sa]]\n",
    "            saPercentages[oldWard]['total'] += int(row['All usual residents'].replace(\",\",\"\"))\n",
    "            saPercentages[oldWard]['smallAreas'][sa]['total'] += int(row['All usual residents'].replace(\",\",\"\"))\n"
   ]
  },
  {
   "cell_type": "code",
   "execution_count": 524,
   "metadata": {},
   "outputs": [
    {
     "data": {
      "text/plain": [
       "2571"
      ]
     },
     "execution_count": 524,
     "metadata": {},
     "output_type": "execute_result"
    }
   ],
   "source": [
    "saPercentages[oldWard]['total']"
   ]
  },
  {
   "cell_type": "code",
   "execution_count": 528,
   "metadata": {},
   "outputs": [
    {
     "data": {
      "text/plain": [
       "326"
      ]
     },
     "execution_count": 528,
     "metadata": {},
     "output_type": "execute_result"
    }
   ],
   "source": [
    "int(row['All usual residents'])"
   ]
  },
  {
   "cell_type": "code",
   "execution_count": 531,
   "metadata": {},
   "outputs": [
    {
     "data": {
      "text/plain": [
       "{'smallAreas': {u'N00001173': {'total': 1946},\n",
       "  u'N00001174': {'total': 946},\n",
       "  u'N00001175': {'total': 668},\n",
       "  u'N00001176': {'total': 1434},\n",
       "  u'N00001177': {'total': 1918},\n",
       "  u'N00001178': {'total': 1839},\n",
       "  u'N00001179': {'total': 1484},\n",
       "  u'N00001180': {'total': 892},\n",
       "  u'N00001181': {'total': 1601},\n",
       "  u'N00001182': {'total': 1508},\n",
       "  u'N00001183': {'total': 1638},\n",
       "  u'N00001184': {'total': 876},\n",
       "  u'N00001185': {'total': 1417},\n",
       "  u'N00001186': {'total': 1207},\n",
       "  u'N00001187': {'total': 741},\n",
       "  u'N00001325': {'total': 2559},\n",
       "  u'N00001326': {'total': 1597},\n",
       "  u'N00001327': {'total': 1545},\n",
       "  u'N00001328': {'total': 1917},\n",
       "  u'N00001329': {'total': 725},\n",
       "  u'N00001330': {'total': 1101},\n",
       "  u'N00001331': {'total': 1424},\n",
       "  u'N00001332': {'total': 875},\n",
       "  u'N00001333': {'total': 1504},\n",
       "  u'N00001334': {'total': 1126},\n",
       "  u'N00001335': {'total': 1072},\n",
       "  u'N00001336': {'total': 1820},\n",
       "  u'N00001337': {'total': 1181},\n",
       "  u'N00001514': {'total': 1399},\n",
       "  u'N00001515': {'total': 840},\n",
       "  u'N00001516': {'total': 1130},\n",
       "  u'N00001517': {'total': 840},\n",
       "  u'N00001518': {'total': 1011},\n",
       "  u'N00001519': {'total': 1456},\n",
       "  u'N00001520': {'total': 1320},\n",
       "  u'N00001521': {'total': 899},\n",
       "  u'N00001522': {'total': 1665},\n",
       "  u'N00001523': {'total': 981},\n",
       "  u'N00001524': {'total': 1119},\n",
       "  u'N00001525': {'total': 1320},\n",
       "  u'N00001526': {'total': 1166},\n",
       "  u'N00001527': {'total': 862},\n",
       "  u'N00001528': {'total': 1405},\n",
       "  u'N00001529': {'total': 1490},\n",
       "  u'N00001530': {'total': 1816},\n",
       "  u'N00001579': {'total': 1554},\n",
       "  u'N00001580': {'total': 964},\n",
       "  u'N00001581': {'total': 1156},\n",
       "  u'N00001582': {'total': 1107},\n",
       "  u'N00001583': {'total': 993},\n",
       "  u'N00001584': {'total': 758},\n",
       "  u'N00001585': {'total': 1567},\n",
       "  u'N00001586': {'total': 881},\n",
       "  u'N00001587': {'total': 1179},\n",
       "  u'N00001588': {'total': 1313},\n",
       "  u'N00001589': {'total': 1411},\n",
       "  u'N00001590': {'total': 1123},\n",
       "  u'N00001591': {'total': 744},\n",
       "  u'N00001592': {'total': 1081},\n",
       "  u'N00001593': {'total': 1549},\n",
       "  u'N00001594': {'total': 1479},\n",
       "  u'N00001595': {'total': 1458},\n",
       "  u'N00001596': {'total': 1665},\n",
       "  u'N00001597': {'total': 1195},\n",
       "  u'N00001598': {'total': 1153},\n",
       "  u'N00001599': {'total': 1277},\n",
       "  u'N00001600': {'total': 1753},\n",
       "  u'N00001601': {'total': 1527},\n",
       "  u'N00001602': {'total': 1163},\n",
       "  u'N00001603': {'total': 1119}},\n",
       " 'total': 90449}"
      ]
     },
     "execution_count": 531,
     "metadata": {},
     "output_type": "execute_result"
    }
   ],
   "source": [
    "saPercentages[oldWard]"
   ]
  },
  {
   "cell_type": "code",
   "execution_count": null,
   "metadata": {
    "collapsed": true
   },
   "outputs": [],
   "source": []
  }
 ],
 "metadata": {
  "kernelspec": {
   "display_name": "Python 2",
   "language": "python",
   "name": "python2"
  },
  "language_info": {
   "codemirror_mode": {
    "name": "ipython",
    "version": 2
   },
   "file_extension": ".py",
   "mimetype": "text/x-python",
   "name": "python",
   "nbconvert_exporter": "python",
   "pygments_lexer": "ipython2",
   "version": "2.7.13"
  }
 },
 "nbformat": 4,
 "nbformat_minor": 2
}
