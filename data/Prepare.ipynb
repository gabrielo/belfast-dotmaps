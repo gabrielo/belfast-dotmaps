{
 "cells": [
  {
   "cell_type": "code",
   "execution_count": 73,
   "metadata": {},
   "outputs": [],
   "source": [
    "import array, csv, json, math\n",
    "from osgeo import ogr\n",
    "from random import shuffle, uniform\n",
    "from shapely.geometry import shape, Point\n",
    "\n",
    "def LonLatToPixelXY(lonlat):\n",
    "    (lon, lat) = lonlat\n",
    "    x = (lon + 180.0) * 256.0 / 360.0\n",
    "    y = 128.0 - math.log(math.tan((lat + 90.0) * math.pi / 360.0)) * 128.0 / math.pi\n",
    "    return [x, y]\n",
    "\n",
    "def RandomPointFromPolygon(geom):\n",
    "    polygon = shape(geom)\n",
    "    bbox = polygon.bounds\n",
    "    l,b,r,t = bbox\n",
    "    while True:\n",
    "        point = Point(uniform(l,r),uniform(t,b))\n",
    "        if point is None:\n",
    "            break\n",
    "        if polygon.contains(point):\n",
    "            break\n",
    "    return point.__geo_interface__['coordinates']"
   ]
  },
  {
   "cell_type": "code",
   "execution_count": null,
   "metadata": {
    "collapsed": true
   },
   "outputs": [],
   "source": [
    "# Transform NI Small Areas shapefile into GeoJSON\n",
    "cmd = \"ogr2ogr -f GeoJSON -t_srs crs:84 SA2011/SA2011.geojson SA2011/SA2011.shp\"\n",
    "!$cmd"
   ]
  },
  {
   "cell_type": "code",
   "execution_count": 7,
   "metadata": {
    "collapsed": true
   },
   "outputs": [],
   "source": [
    "# Load small areas GeoJSON file\n",
    "with open(\"SA2011/SA2011.geojson\") as f:\n",
    "    sa2011 = json.load(f)"
   ]
  },
  {
   "cell_type": "code",
   "execution_count": 8,
   "metadata": {},
   "outputs": [],
   "source": [
    "#sa2011['features'][0]['properties']\n",
    "#{u'Hectares': 169.044,\n",
    "# u'SA2011': u'N00000002',\n",
    "# u'SOA2011': u'95AA01S2',\n",
    "# u'X_COORD': 315465.0,\n",
    "# u'Y_COORD': 377176.0}"
   ]
  },
  {
   "cell_type": "code",
   "execution_count": 9,
   "metadata": {},
   "outputs": [],
   "source": [
    "belfastData = []\n",
    "with open(\"Geographic Data (statistical geographies).ods - SA.csv\") as csvfile:\n",
    "    reader = csv.DictReader(csvfile)\n",
    "    for row in reader:\n",
    "        if row['HSCT'] == \"Belfast HSCT\":\n",
    "            belfastData.append(row)"
   ]
  },
  {
   "cell_type": "code",
   "execution_count": 10,
   "metadata": {},
   "outputs": [],
   "source": [
    "#belfastData[0]\n",
    "#{'AA1998': 'BELFAST WEST',\n",
    "# 'AA2008': 'BELFAST WEST',\n",
    "# 'HSCT': 'Belfast HSCT',\n",
    "# 'LGD1992NAME': 'BELFAST',\n",
    "# 'SA': 'N00000825',\n",
    "# 'SOA': '95GG01S1',\n",
    "# 'SQ Km': '0.11',\n",
    "# 'Settlement2015(1)': 'BELFAST CITY',\n",
    "# 'Settlement2015(2)': '',\n",
    "# 'Settlement2015(3)': '',\n",
    "# 'URBAN_RURAL(2015)': 'Urban',\n",
    "# 'WARD1992': 'ANDERSONSTOWN'}"
   ]
  },
  {
   "cell_type": "code",
   "execution_count": 11,
   "metadata": {},
   "outputs": [],
   "source": [
    "belfastGeoJSON = { \n",
    "    \"type\": \"FeatureCollection\",\n",
    "    \"features\": []\n",
    "}\n",
    "for row in belfastData:\n",
    "    sa = row['SA']\n",
    "    for feature in sa2011['features']:\n",
    "        if feature['properties']['SA2011'] == sa:\n",
    "            for key in row.keys():\n",
    "                feature['properties'][key] = row[key]\n",
    "            belfastGeoJSON['features'].append(feature)\n",
    "            break\n",
    "with open('belfast.geojson', 'w') as outfile:  \n",
    "    json.dump(belfastGeoJSON, outfile, indent=4)"
   ]
  },
  {
   "cell_type": "code",
   "execution_count": 12,
   "metadata": {},
   "outputs": [
    {
     "data": {
      "text/plain": [
       "1008"
      ]
     },
     "execution_count": 12,
     "metadata": {},
     "output_type": "execute_result"
    }
   ],
   "source": [
    "belfastSa2Idx = {}\n",
    "for i in range(0,len(belfastGeoJSON[\"features\"])):\n",
    "    feature = belfastGeoJSON[\"features\"][i]\n",
    "    sa = feature['properties']['SA']\n",
    "    belfastSa2Idx[sa] = i\n",
    "len(belfastSa2Idx)"
   ]
  },
  {
   "cell_type": "code",
   "execution_count": 13,
   "metadata": {},
   "outputs": [
    {
     "data": {
      "text/plain": [
       "1008"
      ]
     },
     "execution_count": 13,
     "metadata": {},
     "output_type": "execute_result"
    }
   ],
   "source": [
    "religionData = []\n",
    "with open(\"_KS211NI (s).ods - SA.csv\") as csvfile:\n",
    "    reader = csv.DictReader(csvfile)\n",
    "    for row in reader:\n",
    "        if row['SA Code'] in belfastSa2Idx:\n",
    "            religionData.append(row)\n",
    "len(religionData)"
   ]
  },
  {
   "cell_type": "code",
   "execution_count": 14,
   "metadata": {},
   "outputs": [],
   "source": [
    "#religionData[0]\n",
    "#{'All usual residents': '367',\n",
    "# 'Religion: Catholic': '320',\n",
    "# 'Religion: Catholic (%)': '87.19',\n",
    "# 'Religion: Church of Ireland': '0',\n",
    "# 'Religion: Church of Ireland (%)': '0.00',\n",
    "# 'Religion: Methodist Church in Ireland': '0',\n",
    "# 'Religion: Methodist Church in Ireland (%)': '0.00',\n",
    "# 'Religion: No religion': '15',\n",
    "# 'Religion: No religion (%)': '4.09',\n",
    "# 'Religion: Other Christian (including Christian related)': '3',\n",
    "# 'Religion: Other Christian (including Christian related) (%)': '0.82',\n",
    "# 'Religion: Other religions': '0',\n",
    "# 'Religion: Other religions (%)': '0.00',\n",
    "# 'Religion: Presbyterian Church in Ireland': '2',\n",
    "# 'Religion: Presbyterian Church in Ireland (%)': '0.54',\n",
    "# 'Religion: Religion not stated': '27',\n",
    "# 'Religion: Religion not stated (%)': '7.36',\n",
    "# 'SA': 'N00000825 (Andersonstown ward)',\n",
    "# 'SA Code': 'N00000825'}"
   ]
  },
  {
   "cell_type": "code",
   "execution_count": 47,
   "metadata": {
    "collapsed": true
   },
   "outputs": [],
   "source": [
    "romanCatholic = ['Religion: Catholic']\n",
    "presbyterian = ['Religion: Presbyterian Church in Ireland']\n",
    "churchOfIreland = ['Religion: Church of Ireland']\n",
    "methodist = ['Religion: Methodist Church in Ireland']\n",
    "other = ['Religion: No religion', 'Religion: Other Christian (including Christian related)', \n",
    "         'Religion: Other religions', 'Religion: Religion not stated']\n",
    "\n",
    "religions = {\n",
    "    'romanCatholic':romanCatholic, \n",
    "    'presbyterian': presbyterian, \n",
    "    'churchOfIreland': churchOfIreland, \n",
    "    'methodist': methodist, \n",
    "    'other': other}\n",
    "\n",
    "religion2Idx = {\n",
    "    'romanCatholic': 1.0, \n",
    "    'presbyterian': 2.0, \n",
    "    'churchOfIreland': 3.0, \n",
    "    'methodist': 4.0, \n",
    "    'other': 5.0\n",
    "}"
   ]
  },
  {
   "cell_type": "code",
   "execution_count": 32,
   "metadata": {},
   "outputs": [
    {
     "data": {
      "text/plain": [
       "[123.73697328436603, 81.50378179192757]"
      ]
     },
     "execution_count": 32,
     "metadata": {},
     "output_type": "execute_result"
    }
   ],
   "source": [
    "geom = belfastGeoJSON[\"features\"][0][\"geometry\"]\n",
    "p = RandomPointFromPolygon(geom)\n",
    "LonLatToPixelXY(p)"
   ]
  },
  {
   "cell_type": "code",
   "execution_count": 62,
   "metadata": {},
   "outputs": [],
   "source": [
    "points_2011 = []\n",
    "for row in religionData:\n",
    "    sa = row['SA Code']\n",
    "    featureIdx = belfastSa2Idx[sa]\n",
    "    geom = belfastGeoJSON[\"features\"][featureIdx]['geometry']\n",
    "    total = int(row['All usual residents'].replace(',', ''))\n",
    "    totals = 0\n",
    "    for k in religions.keys():\n",
    "        currentTotal = 0\n",
    "        for i in religions[k]:\n",
    "            currentTotal += int(row[i].replace(',',''))\n",
    "        for i in range(currentTotal):\n",
    "            point = []\n",
    "            point += LonLatToPixelXY(RandomPointFromPolygon(geom))\n",
    "            point.append(religion2Idx[k])\n",
    "            points_2011.append(point)\n",
    "        totals += currentTotal        \n",
    "    if total != totals:\n",
    "        mis += 1\n",
    "        print mis        "
   ]
  },
  {
   "cell_type": "code",
   "execution_count": 63,
   "metadata": {},
   "outputs": [
    {
     "data": {
      "text/plain": [
       "348204"
      ]
     },
     "execution_count": 63,
     "metadata": {},
     "output_type": "execute_result"
    }
   ],
   "source": [
    "len(points_2011)"
   ]
  },
  {
   "cell_type": "code",
   "execution_count": 72,
   "metadata": {},
   "outputs": [],
   "source": [
    "shuffle(points_2011)"
   ]
  },
  {
   "cell_type": "code",
   "execution_count": 74,
   "metadata": {},
   "outputs": [],
   "source": [
    "points = []\n",
    "for sublist in points_2011:\n",
    "    for item in sublist:\n",
    "        points.append(item)\n",
    "array.array('f', points).tofile(open('dotmap-2011.bin', 'wb'))"
   ]
  },
  {
   "cell_type": "code",
   "execution_count": null,
   "metadata": {
    "collapsed": true
   },
   "outputs": [],
   "source": []
  }
 ],
 "metadata": {
  "kernelspec": {
   "display_name": "Python 2",
   "language": "python",
   "name": "python2"
  },
  "language_info": {
   "codemirror_mode": {
    "name": "ipython",
    "version": 2
   },
   "file_extension": ".py",
   "mimetype": "text/x-python",
   "name": "python",
   "nbconvert_exporter": "python",
   "pygments_lexer": "ipython2",
   "version": "2.7.13"
  }
 },
 "nbformat": 4,
 "nbformat_minor": 2
}
