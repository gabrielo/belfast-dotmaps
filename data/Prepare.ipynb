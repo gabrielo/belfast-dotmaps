{
 "cells": [
  {
   "cell_type": "code",
   "execution_count": null,
   "metadata": {
    "collapsed": true
   },
   "outputs": [],
   "source": [
    "import csv, json\n",
    "from osgeo import ogr"
   ]
  },
  {
   "cell_type": "code",
   "execution_count": null,
   "metadata": {
    "collapsed": true
   },
   "outputs": [],
   "source": [
    "# Transform NI Small Areas shapefile into GeoJSON\n",
    "cmd = \"ogr2ogr -f GeoJSON -t_srs crs:84 SA2011/SA2011.geojson SA2011/SA2011.shp\"\n",
    "!$cmd"
   ]
  },
  {
   "cell_type": "code",
   "execution_count": null,
   "metadata": {
    "collapsed": true
   },
   "outputs": [],
   "source": [
    "# Load small areas GeoJSON file\n",
    "with open(\"SA2011/SA2011.geojson\") as f:\n",
    "    sa2011 = json.load(f)"
   ]
  },
  {
   "cell_type": "code",
   "execution_count": null,
   "metadata": {},
   "outputs": [],
   "source": [
    "#sa2011['features'][0]['properties']\n",
    "#{u'Hectares': 169.044,\n",
    "# u'SA2011': u'N00000002',\n",
    "# u'SOA2011': u'95AA01S2',\n",
    "# u'X_COORD': 315465.0,\n",
    "# u'Y_COORD': 377176.0}"
   ]
  },
  {
   "cell_type": "code",
   "execution_count": null,
   "metadata": {},
   "outputs": [],
   "source": [
    "belfastData = []\n",
    "with open(\"Geographic Data (statistical geographies).ods - SA.csv\") as csvfile:\n",
    "    reader = csv.DictReader(csvfile)\n",
    "    for row in reader:\n",
    "        if row['HSCT'] == \"Belfast HSCT\":\n",
    "            belfastData.append(row)"
   ]
  },
  {
   "cell_type": "code",
   "execution_count": null,
   "metadata": {},
   "outputs": [],
   "source": [
    "#belfastData[0]\n",
    "#{'AA1998': 'BELFAST WEST',\n",
    "# 'AA2008': 'BELFAST WEST',\n",
    "# 'HSCT': 'Belfast HSCT',\n",
    "# 'LGD1992NAME': 'BELFAST',\n",
    "# 'SA': 'N00000825',\n",
    "# 'SOA': '95GG01S1',\n",
    "# 'SQ Km': '0.11',\n",
    "# 'Settlement2015(1)': 'BELFAST CITY',\n",
    "# 'Settlement2015(2)': '',\n",
    "# 'Settlement2015(3)': '',\n",
    "# 'URBAN_RURAL(2015)': 'Urban',\n",
    "# 'WARD1992': 'ANDERSONSTOWN'}"
   ]
  },
  {
   "cell_type": "code",
   "execution_count": null,
   "metadata": {},
   "outputs": [],
   "source": [
    "belfastGeoJSON = { \n",
    "    \"type\": \"FeatureCollection\",\n",
    "    \"features\": []\n",
    "}\n",
    "for row in belfastData:\n",
    "    sa = row['SA']\n",
    "    for feature in sa2011['features']:\n",
    "        if feature['properties']['SA2011'] == sa:\n",
    "            for key in row.keys():\n",
    "                feature['properties'][key] = row[key]\n",
    "            belfastGeoJSON['features'].append(feature)\n",
    "            break\n",
    "with open('belfast.geojson', 'w') as outfile:  \n",
    "    json.dump(belfastGeoJSON, outfile, indent=4)"
   ]
  },
  {
   "cell_type": "code",
   "execution_count": null,
   "metadata": {
    "collapsed": true
   },
   "outputs": [],
   "source": []
  }
 ],
 "metadata": {
  "kernelspec": {
   "display_name": "Python 2",
   "language": "python",
   "name": "python2"
  },
  "language_info": {
   "codemirror_mode": {
    "name": "ipython",
    "version": 2
   },
   "file_extension": ".py",
   "mimetype": "text/x-python",
   "name": "python",
   "nbconvert_exporter": "python",
   "pygments_lexer": "ipython2",
   "version": "2.7.13"
  }
 },
 "nbformat": 4,
 "nbformat_minor": 2
}
