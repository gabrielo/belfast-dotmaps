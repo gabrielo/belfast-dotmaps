{
 "cells": [
  {
   "cell_type": "code",
   "execution_count": 2,
   "metadata": {},
   "outputs": [],
   "source": [
    "import array, csv, json, math\n",
    "from osgeo import ogr\n",
    "from random import shuffle, uniform\n",
    "from shapely.geometry import shape, Point, Polygon\n",
    "\n",
    "def LonLatToPixelXY(lonlat):\n",
    "    (lon, lat) = lonlat\n",
    "    x = (lon + 180.0) * 256.0 / 360.0\n",
    "    y = 128.0 - math.log(math.tan((lat + 90.0) * math.pi / 360.0)) * 128.0 / math.pi\n",
    "    return [x, y]\n",
    "\n",
    "def RandomPointFromPolygon(geom):\n",
    "    polygon = shape(geom)\n",
    "    bbox = polygon.bounds\n",
    "    l,b,r,t = bbox\n",
    "    while True:\n",
    "        point = Point(uniform(l,r),uniform(t,b))\n",
    "        if point is None:\n",
    "            break\n",
    "        if polygon.contains(point):\n",
    "            break\n",
    "    return point.__geo_interface__['coordinates']"
   ]
  },
  {
   "cell_type": "code",
   "execution_count": null,
   "metadata": {
    "collapsed": true
   },
   "outputs": [],
   "source": [
    "# Transform NI Small Areas shapefile into GeoJSON\n",
    "cmd = \"ogr2ogr -f GeoJSON -t_srs crs:84 SA2011/SA2011.geojson SA2011/SA2011.shp\"\n",
    "!$cmd"
   ]
  },
  {
   "cell_type": "code",
   "execution_count": 7,
   "metadata": {
    "collapsed": true
   },
   "outputs": [],
   "source": [
    "# Load small areas GeoJSON file\n",
    "with open(\"SA2011/SA2011.geojson\") as f:\n",
    "    sa2011 = json.load(f)"
   ]
  },
  {
   "cell_type": "code",
   "execution_count": 8,
   "metadata": {},
   "outputs": [],
   "source": [
    "#sa2011['features'][0]['properties']\n",
    "#{u'Hectares': 169.044,\n",
    "# u'SA2011': u'N00000002',\n",
    "# u'SOA2011': u'95AA01S2',\n",
    "# u'X_COORD': 315465.0,\n",
    "# u'Y_COORD': 377176.0}"
   ]
  },
  {
   "cell_type": "code",
   "execution_count": 9,
   "metadata": {},
   "outputs": [],
   "source": [
    "belfastData = []\n",
    "with open(\"Geographic Data (statistical geographies).ods - SA.csv\") as csvfile:\n",
    "    reader = csv.DictReader(csvfile)\n",
    "    for row in reader:\n",
    "        if row['HSCT'] == \"Belfast HSCT\":\n",
    "            belfastData.append(row)"
   ]
  },
  {
   "cell_type": "code",
   "execution_count": 10,
   "metadata": {},
   "outputs": [],
   "source": [
    "#belfastData[0]\n",
    "#{'AA1998': 'BELFAST WEST',\n",
    "# 'AA2008': 'BELFAST WEST',\n",
    "# 'HSCT': 'Belfast HSCT',\n",
    "# 'LGD1992NAME': 'BELFAST',\n",
    "# 'SA': 'N00000825',\n",
    "# 'SOA': '95GG01S1',\n",
    "# 'SQ Km': '0.11',\n",
    "# 'Settlement2015(1)': 'BELFAST CITY',\n",
    "# 'Settlement2015(2)': '',\n",
    "# 'Settlement2015(3)': '',\n",
    "# 'URBAN_RURAL(2015)': 'Urban',\n",
    "# 'WARD1992': 'ANDERSONSTOWN'}"
   ]
  },
  {
   "cell_type": "code",
   "execution_count": 11,
   "metadata": {},
   "outputs": [],
   "source": [
    "belfastGeoJSON = { \n",
    "    \"type\": \"FeatureCollection\",\n",
    "    \"features\": []\n",
    "}\n",
    "for row in belfastData:\n",
    "    sa = row['SA']\n",
    "    for feature in sa2011['features']:\n",
    "        if feature['properties']['SA2011'] == sa:\n",
    "            for key in row.keys():\n",
    "                feature['properties'][key] = row[key]\n",
    "            belfastGeoJSON['features'].append(feature)\n",
    "            break\n",
    "with open('belfast.geojson', 'w') as outfile:  \n",
    "    json.dump(belfastGeoJSON, outfile, indent=4)"
   ]
  },
  {
   "cell_type": "code",
   "execution_count": 12,
   "metadata": {},
   "outputs": [
    {
     "data": {
      "text/plain": [
       "1008"
      ]
     },
     "execution_count": 12,
     "metadata": {},
     "output_type": "execute_result"
    }
   ],
   "source": [
    "belfastSa2Idx = {}\n",
    "for i in range(0,len(belfastGeoJSON[\"features\"])):\n",
    "    feature = belfastGeoJSON[\"features\"][i]\n",
    "    sa = feature['properties']['SA']\n",
    "    belfastSa2Idx[sa] = i\n",
    "len(belfastSa2Idx)"
   ]
  },
  {
   "cell_type": "code",
   "execution_count": 13,
   "metadata": {},
   "outputs": [
    {
     "data": {
      "text/plain": [
       "1008"
      ]
     },
     "execution_count": 13,
     "metadata": {},
     "output_type": "execute_result"
    }
   ],
   "source": [
    "religionData = []\n",
    "with open(\"_KS211NI (s).ods - SA.csv\") as csvfile:\n",
    "    reader = csv.DictReader(csvfile)\n",
    "    for row in reader:\n",
    "        if row['SA Code'] in belfastSa2Idx:\n",
    "            religionData.append(row)\n",
    "len(religionData)"
   ]
  },
  {
   "cell_type": "code",
   "execution_count": 14,
   "metadata": {},
   "outputs": [],
   "source": [
    "#religionData[0]\n",
    "#{'All usual residents': '367',\n",
    "# 'Religion: Catholic': '320',\n",
    "# 'Religion: Catholic (%)': '87.19',\n",
    "# 'Religion: Church of Ireland': '0',\n",
    "# 'Religion: Church of Ireland (%)': '0.00',\n",
    "# 'Religion: Methodist Church in Ireland': '0',\n",
    "# 'Religion: Methodist Church in Ireland (%)': '0.00',\n",
    "# 'Religion: No religion': '15',\n",
    "# 'Religion: No religion (%)': '4.09',\n",
    "# 'Religion: Other Christian (including Christian related)': '3',\n",
    "# 'Religion: Other Christian (including Christian related) (%)': '0.82',\n",
    "# 'Religion: Other religions': '0',\n",
    "# 'Religion: Other religions (%)': '0.00',\n",
    "# 'Religion: Presbyterian Church in Ireland': '2',\n",
    "# 'Religion: Presbyterian Church in Ireland (%)': '0.54',\n",
    "# 'Religion: Religion not stated': '27',\n",
    "# 'Religion: Religion not stated (%)': '7.36',\n",
    "# 'SA': 'N00000825 (Andersonstown ward)',\n",
    "# 'SA Code': 'N00000825'}"
   ]
  },
  {
   "cell_type": "code",
   "execution_count": 47,
   "metadata": {
    "collapsed": true
   },
   "outputs": [],
   "source": [
    "romanCatholic = ['Religion: Catholic']\n",
    "presbyterian = ['Religion: Presbyterian Church in Ireland']\n",
    "churchOfIreland = ['Religion: Church of Ireland']\n",
    "methodist = ['Religion: Methodist Church in Ireland']\n",
    "other = ['Religion: No religion', 'Religion: Other Christian (including Christian related)', \n",
    "         'Religion: Other religions', 'Religion: Religion not stated']\n",
    "\n",
    "religions = {\n",
    "    'romanCatholic':romanCatholic, \n",
    "    'presbyterian': presbyterian, \n",
    "    'churchOfIreland': churchOfIreland, \n",
    "    'methodist': methodist, \n",
    "    'other': other}\n",
    "\n",
    "religion2Idx = {\n",
    "    'romanCatholic': 1.0, \n",
    "    'presbyterian': 2.0, \n",
    "    'churchOfIreland': 3.0, \n",
    "    'methodist': 4.0, \n",
    "    'other': 5.0\n",
    "}"
   ]
  },
  {
   "cell_type": "code",
   "execution_count": 32,
   "metadata": {},
   "outputs": [
    {
     "data": {
      "text/plain": [
       "[123.73697328436603, 81.50378179192757]"
      ]
     },
     "execution_count": 32,
     "metadata": {},
     "output_type": "execute_result"
    }
   ],
   "source": [
    "geom = belfastGeoJSON[\"features\"][0][\"geometry\"]\n",
    "p = RandomPointFromPolygon(geom)\n",
    "LonLatToPixelXY(p)"
   ]
  },
  {
   "cell_type": "code",
   "execution_count": 62,
   "metadata": {},
   "outputs": [],
   "source": [
    "points_2011 = []\n",
    "for row in religionData:\n",
    "    sa = row['SA Code']\n",
    "    featureIdx = belfastSa2Idx[sa]\n",
    "    geom = belfastGeoJSON[\"features\"][featureIdx]['geometry']\n",
    "    total = int(row['All usual residents'].replace(',', ''))\n",
    "    totals = 0\n",
    "    for k in religions.keys():\n",
    "        currentTotal = 0\n",
    "        for i in religions[k]:\n",
    "            currentTotal += int(row[i].replace(',',''))\n",
    "        for i in range(currentTotal):\n",
    "            point = []\n",
    "            point += LonLatToPixelXY(RandomPointFromPolygon(geom))\n",
    "            point.append(religion2Idx[k])\n",
    "            points_2011.append(point)\n",
    "        totals += currentTotal        \n",
    "    if total != totals:\n",
    "        mis += 1\n",
    "        print mis        "
   ]
  },
  {
   "cell_type": "code",
   "execution_count": 63,
   "metadata": {},
   "outputs": [
    {
     "data": {
      "text/plain": [
       "348204"
      ]
     },
     "execution_count": 63,
     "metadata": {},
     "output_type": "execute_result"
    }
   ],
   "source": [
    "len(points_2011)"
   ]
  },
  {
   "cell_type": "code",
   "execution_count": 72,
   "metadata": {},
   "outputs": [],
   "source": [
    "shuffle(points_2011)"
   ]
  },
  {
   "cell_type": "code",
   "execution_count": 74,
   "metadata": {},
   "outputs": [],
   "source": [
    "points = []\n",
    "for sublist in points_2011:\n",
    "    for item in sublist:\n",
    "        points.append(item)\n",
    "array.array('f', points).tofile(open('dotmap-2011.bin', 'wb'))"
   ]
  },
  {
   "cell_type": "code",
   "execution_count": 79,
   "metadata": {},
   "outputs": [
    {
     "data": {
      "text/plain": [
       "1008"
      ]
     },
     "execution_count": 79,
     "metadata": {},
     "output_type": "execute_result"
    }
   ],
   "source": [
    "lookupTableData = []\n",
    "with open(\"Look-up Tables_0.xlsx - SA2011.csv\") as csvfile:\n",
    "    reader = csv.DictReader(csvfile)\n",
    "    for row in reader:\n",
    "        if row['SA2011'] in belfastSa2Idx:\n",
    "            lookupTableData.append(row)\n",
    "len(lookupTableData)    "
   ]
  },
  {
   "cell_type": "code",
   "execution_count": 81,
   "metadata": {},
   "outputs": [],
   "source": [
    "#lookupTableData[0]\n",
    "#{'COA2001_1': '95GG010001',\n",
    "#'COA2001_2': '',\n",
    "# 'COA2001_3': '',\n",
    "# 'COA2001_4': '',\n",
    "# 'SA2011': 'N00000825',\n",
    "# 'SA2011NAME': 'N00000825 (Andersonstown ward)',\n",
    "# 'SOA2001': '95GG01S1',\n",
    "# 'SOANAME': 'Andersonstown_1'}"
   ]
  },
  {
   "cell_type": "code",
   "execution_count": 85,
   "metadata": {
    "collapsed": true
   },
   "outputs": [],
   "source": [
    "raw_2001 = []\n",
    "with open(\"2001/oa/TABLE CAS308 (OA).csv\") as csvfile:\n",
    "    reader = csv.reader(csvfile)\n",
    "    for row in reader:\n",
    "        raw_2001.append(row)\n"
   ]
  },
  {
   "cell_type": "code",
   "execution_count": 121,
   "metadata": {},
   "outputs": [],
   "source": [
    "religionDataIdx_2001 = {}\n",
    "\n",
    "for row in lookupTableData:\n",
    "    idx_2001 = row['COA2001_1']\n",
    "    religionDataIdx_2001[idx_2001] = []\n",
    "    for raw_row in raw_2001:\n",
    "        if len(raw_row) == 3:\n",
    "            raw_idx = raw_row[0].strip()\n",
    "            raw_key = raw_row[1]\n",
    "            raw_value = raw_row[2]\n",
    "            if raw_value == \"-\":\n",
    "                raw_value = '0'\n",
    "            if raw_idx == idx_2001:\n",
    "                religionDataIdx_2001[idx_2001].append({raw_key: raw_value})\n",
    "            "
   ]
  },
  {
   "cell_type": "code",
   "execution_count": 124,
   "metadata": {},
   "outputs": [],
   "source": [
    "religionData_2001 = []\n",
    "for row in lookupTableData:\n",
    "    data_2001 = {}\n",
    "    idx_2001 = row['COA2001_1']\n",
    "    data_2001['SA Code'] = row['SA2011']\n",
    "    data_2001['COA2001_1'] = idx_2001\n",
    "    data_2001['All usual residents'] = religionDataIdx_2001[idx_2001][0]['All persons']\n",
    "    data_2001['Religion: Catholic'] = religionDataIdx_2001[idx_2001][2]['Catholic']\n",
    "    data_2001['Religion: Church of Ireland'] = religionDataIdx_2001[idx_2001][4]['Church of Ireland']\n",
    "    data_2001['Religion: Methodist Church in Ireland'] = religionDataIdx_2001[idx_2001][5]['Methodist Church in Ireland']\n",
    "    data_2001['Religion: Presbyterian Church in Ireland'] = religionDataIdx_2001[idx_2001][3]['Presbyterian Church in Ireland']\n",
    "    data_2001['Religion: Other Christian (including Christian related)'] = religionDataIdx_2001[idx_2001][6]['Other Christian (including Christian related)']\n",
    "    data_2001['Religion: Other religions'] = religionDataIdx_2001[idx_2001][7]['Other religions and philosophies']\n",
    "    data_2001['Religion: No religion'] = religionDataIdx_2001[idx_2001][8]['No religion or religion not stated']\n",
    "    data_2001['Religion: Religion not stated'] = '0'\n",
    "    religionData_2001.append(data_2001)\n",
    "    \n",
    "    "
   ]
  },
  {
   "cell_type": "code",
   "execution_count": 125,
   "metadata": {},
   "outputs": [
    {
     "data": {
      "text/plain": [
       "{'All usual residents': '432',\n",
       " 'COA2001_1': '95GG010001',\n",
       " 'Religion: Catholic': '411',\n",
       " 'Religion: Church of Ireland': '3',\n",
       " 'Religion: Methodist Church in Ireland': '0',\n",
       " 'Religion: No religion': '18',\n",
       " 'Religion: Other Christian (including Christian related)': '0',\n",
       " 'Religion: Other religions': '0',\n",
       " 'Religion: Presbyterian Church in Ireland': '0',\n",
       " 'Religion: Religion not stated': '0',\n",
       " 'SA Code': 'N00000825'}"
      ]
     },
     "execution_count": 125,
     "metadata": {},
     "output_type": "execute_result"
    }
   ],
   "source": [
    "religionData_2001[0]"
   ]
  },
  {
   "cell_type": "code",
   "execution_count": 117,
   "metadata": {},
   "outputs": [
    {
     "data": {
      "text/plain": [
       "[{'All persons': '415'},\n",
       " {'': '*'},\n",
       " {'Catholic': '393'},\n",
       " {'Presbyterian Church in Ireland': 0},\n",
       " {'Church of Ireland': 0},\n",
       " {'Methodist Church in Ireland': 0},\n",
       " {'Other Christian (including Christian related)': 0},\n",
       " {'Other religions and philosophies': 0},\n",
       " {'No religion or religion not stated': '22'}]"
      ]
     },
     "execution_count": 117,
     "metadata": {},
     "output_type": "execute_result"
    }
   ],
   "source": [
    "religionDataIdx_2001['95GG010002']"
   ]
  },
  {
   "cell_type": "code",
   "execution_count": 115,
   "metadata": {},
   "outputs": [
    {
     "data": {
      "text/plain": [
       "{'COA2001_1': '95GG010001', 'SA Code': 'N00000825'}"
      ]
     },
     "execution_count": 115,
     "metadata": {},
     "output_type": "execute_result"
    }
   ],
   "source": [
    "data_2001"
   ]
  },
  {
   "cell_type": "code",
   "execution_count": 126,
   "metadata": {},
   "outputs": [
    {
     "data": {
      "text/plain": [
       "[{'All persons': '294'},\n",
       " {'': '*'},\n",
       " {'Catholic': '130'},\n",
       " {'Presbyterian Church in Ireland': '43'},\n",
       " {'Church of Ireland': '27'},\n",
       " {'Methodist Church in Ireland': '26'},\n",
       " {'Other Christian (including Christian related)': '13'},\n",
       " {'Other religions and philosophies': '0'},\n",
       " {'No religion or religion not stated': '55'}]"
      ]
     },
     "execution_count": 126,
     "metadata": {},
     "output_type": "execute_result"
    }
   ],
   "source": [
    "religionDataIdx_2001[idx_2001]"
   ]
  },
  {
   "cell_type": "code",
   "execution_count": 127,
   "metadata": {},
   "outputs": [],
   "source": [
    "points_2001 = []\n",
    "for row in religionData_2001:\n",
    "    sa = row['SA Code']\n",
    "    featureIdx = belfastSa2Idx[sa]\n",
    "    geom = belfastGeoJSON[\"features\"][featureIdx]['geometry']\n",
    "    total = int(row['All usual residents'].replace(',', ''))\n",
    "    totals = 0\n",
    "    for k in religions.keys():\n",
    "        currentTotal = 0\n",
    "        for i in religions[k]:\n",
    "            currentTotal += int(row[i].replace(',',''))\n",
    "        for i in range(currentTotal):\n",
    "            point = []\n",
    "            point += LonLatToPixelXY(RandomPointFromPolygon(geom))\n",
    "            point.append(religion2Idx[k])\n",
    "            points_2001.append(point)\n",
    "        totals += currentTotal        \n",
    "    if total != totals:\n",
    "        mis += 1\n",
    "        print mis        "
   ]
  },
  {
   "cell_type": "code",
   "execution_count": 128,
   "metadata": {},
   "outputs": [
    {
     "data": {
      "text/plain": [
       "309518"
      ]
     },
     "execution_count": 128,
     "metadata": {},
     "output_type": "execute_result"
    }
   ],
   "source": [
    "len(points_2001)"
   ]
  },
  {
   "cell_type": "code",
   "execution_count": 129,
   "metadata": {
    "collapsed": true
   },
   "outputs": [],
   "source": [
    "shuffle(points_2001)"
   ]
  },
  {
   "cell_type": "code",
   "execution_count": 130,
   "metadata": {
    "collapsed": true
   },
   "outputs": [],
   "source": [
    "points = []\n",
    "for sublist in points_2001:\n",
    "    for item in sublist:\n",
    "        points.append(item)\n",
    "array.array('f', points).tofile(open('dotmap-2001.bin', 'wb'))"
   ]
  },
  {
   "cell_type": "code",
   "execution_count": 164,
   "metadata": {},
   "outputs": [],
   "source": [
    "grid2OA = []\n",
    "with open(\"5672/5672package/package/100mgrids/txt/grid100mOA.txt\") as csvfile:\n",
    "    reader = csv.DictReader(csvfile, delimiter='\\t')\n",
    "    for row in reader:\n",
    "        grid2OA.append(row)"
   ]
  },
  {
   "cell_type": "code",
   "execution_count": 182,
   "metadata": {},
   "outputs": [],
   "source": [
    "#grid2OA[0]\n",
    "#{'Grid01': 'J 075 899',\n",
    "# 'Grid718191': 'J075899 - J076900',\n",
    "# 'OA': '95AA050006',\n",
    "# 'Oa_code': '6',\n",
    "# 'Oa_cty': '95',\n",
    "# 'Oa_dis': 'AA',\n",
    "# 'Oa_ward': '5',\n",
    "# 'Ward': '95AA05',\n",
    "# 'X': '307550',\n",
    "# 'Y': '389950'}"
   ]
  },
  {
   "cell_type": "code",
   "execution_count": 167,
   "metadata": {},
   "outputs": [],
   "source": [
    "oa2Grid718191 = {}\n",
    "for row in grid2OA:\n",
    "    if not row[\"OA\"] in oa2Grid718191:\n",
    "        oa2Grid718191[row[\"OA\"]] = []\n",
    "    oa2Grid718191[row[\"OA\"]].append(row['Grid718191'])"
   ]
  },
  {
   "cell_type": "code",
   "execution_count": 183,
   "metadata": {},
   "outputs": [],
   "source": [
    "#oa2Grid718191[\"95GG400001\"]\n",
    "#['J321744 - J322745',\n",
    "# 'J321745 - J322746',\n",
    "# 'J321746 - J322747',\n",
    "# 'J322745 - J323746',\n",
    "# 'J322747 - J323748']"
   ]
  },
  {
   "cell_type": "code",
   "execution_count": 171,
   "metadata": {},
   "outputs": [],
   "source": [
    "# Convert DBF to CSV\n",
    "years = [\"1971\", \"1981\", \"1991\"]\n",
    "for year in years:\n",
    "    cmd = \"ogr2ogr -f CSV %soth100m.csv 5672/5672package/package/100mgrids/dbf/%soth100m.dbf\" % (year, year)\n",
    "    !$cmd\n",
    "   "
   ]
  },
  {
   "cell_type": "code",
   "execution_count": 218,
   "metadata": {
    "collapsed": true
   },
   "outputs": [],
   "source": [
    "data_1991 = []\n",
    "with open(\"1991oth100m.csv\") as csvfile:\n",
    "    reader = csv.DictReader(csvfile)\n",
    "    for row in reader:\n",
    "        data_1991.append(row)\n",
    "    "
   ]
  },
  {
   "cell_type": "code",
   "execution_count": 219,
   "metadata": {},
   "outputs": [],
   "source": [
    "# data_1991[0]\n",
    "# {'GRID': 'C414160 - C415161',\n",
    "#   ...\n",
    "# 'V783_91': '-99997',\n",
    "# 'V784_91': '-99997',\n",
    "# 'V785_91': '-99997',\n",
    "# 'V786_91': '-99997',\n",
    "# 'V787_91': '-99997',\n",
    "# 'V788_91': '-99997',\n",
    "# 'V789_91': '-99997',\n",
    "# 'V790_91': '-99997',\n",
    "# 'V791_91': '-99997',\n",
    "# 'V792_91': '-99997',\n",
    "# 'V793_91': '-99997',\n",
    "# 'V794_91': '-99997',\n",
    "# ...\n",
    "# }"
   ]
  },
  {
   "cell_type": "code",
   "execution_count": 220,
   "metadata": {},
   "outputs": [],
   "source": [
    "# 1971 and 1981\n",
    "#     totalCatholic = int(row['V783_91']) + int(row['V784_91'])\n",
    "#    totalPresbyterian = int(row['V785_91']) + int(row['V786_91'])\n",
    "#    totalCoI = int(row['V787_91']) + int(row['V788_91'])\n",
    "#    totalMethodist = int(row['V789_91']) + int(row['V790_91'])\n",
    "#    totalOther = int(row['V791_91']) + int(row['V792_91'])    \n",
    "#    totalNotStated = int(row['V793_91']) + int(row['V794_91'])\n",
    "\n",
    "grid2religion_1991 = {}\n",
    "for row in data_1991:\n",
    "    gridIdx = row['GRID']\n",
    "    totalCatholic = int(row['V895_91']) + int(row['V896_91'])\n",
    "    totalPresbyterian = int(row['V897_91']) + int(row['V898_91'])\n",
    "    totalCoI = int(row['V899_91']) + int(row['V900_91'])\n",
    "    totalMethodist = int(row['V901_91']) + int(row['V902_91'])\n",
    "    totalOther = int(row['V903_91']) + int(row['V904_91'])    \n",
    "    totalNone = int(row['V905_91']) + int(row['V906_91'])\n",
    "    totalNotStated = int(row['V907_91']) + int(row['V908_91'])\n",
    "    grid2religion_1991[gridIdx] = {\n",
    "        'Catholic': max(0,totalCatholic),\n",
    "        'Church of Ireland': max(0,totalCoI),\n",
    "        'Methodist Church in Ireland': max(0,totalMethodist),\n",
    "        'Presbyterian Church in Ireland': max(0,totalPresbyterian),\n",
    "        'Other': max(0,totalOther),\n",
    "        'Religion not stated': max(0,totalNotStated),\n",
    "        'None': max(0,totalNone)\n",
    "    }\n",
    "    "
   ]
  },
  {
   "cell_type": "code",
   "execution_count": 221,
   "metadata": {},
   "outputs": [],
   "source": [
    "religionData_1991 = []\n",
    "for row in lookupTableData:\n",
    "    data_1991 = {}\n",
    "    idx_2001 = row['COA2001_1']\n",
    "    data_1991['SA Code'] = row['SA2011']\n",
    "    data_1991['COA2001_1'] = idx_2001\n",
    "    totalCatholic = 0\n",
    "    totalPresbyterian = 0\n",
    "    totalCoI = 0\n",
    "    totalMethodist = 0\n",
    "    totalOther = 0 \n",
    "    totalNotStated = 0\n",
    "    totalNone = 0\n",
    "    if idx_2001 in oa2Grid718191:\n",
    "        for gridIdx in oa2Grid718191[idx_2001]:        \n",
    "            if gridIdx in grid2religion_1991:\n",
    "                totalCatholic += grid2religion_1991[gridIdx]['Catholic']\n",
    "                totalPresbyterian += grid2religion_1991[gridIdx]['Presbyterian Church in Ireland']\n",
    "                totalCoI += grid2religion_1991[gridIdx]['Church of Ireland']\n",
    "                totalMethodist += grid2religion_1991[gridIdx]['Methodist Church in Ireland']\n",
    "                totalOther += grid2religion_1991[gridIdx]['Other']\n",
    "                totalNotStated += grid2religion_1991[gridIdx]['Religion not stated']\n",
    "                totalNone += grid2religion_1991[gridIdx]['None']\n",
    "        \n",
    "    data_1991['All usual residents'] = totalCatholic + totalPresbyterian + totalCoI + totalMethodist + totalOther + totalNotStated + totalNone\n",
    "    data_1991['Religion: Catholic'] = totalCatholic\n",
    "    data_1991['Religion: Church of Ireland'] = totalCoI\n",
    "    data_1991['Religion: Methodist Church in Ireland'] = totalMethodist\n",
    "    data_1991['Religion: Presbyterian Church in Ireland'] = totalPresbyterian\n",
    "    data_1991['Religion: Other Christian (including Christian related)'] = totalOther\n",
    "    data_1991['Religion: Other religions'] = 0\n",
    "    data_1991['Religion: No religion'] = totalNone\n",
    "    data_1991['Religion: Religion not stated'] = totalNotStated\n",
    "    religionData_1991.append(data_1991)\n"
   ]
  },
  {
   "cell_type": "code",
   "execution_count": 225,
   "metadata": {},
   "outputs": [
    {
     "data": {
      "text/plain": [
       "{'All usual residents': 99,\n",
       " 'COA2001_1': '95GG510008',\n",
       " 'Religion: Catholic': 0,\n",
       " 'Religion: Church of Ireland': 48,\n",
       " 'Religion: Methodist Church in Ireland': 7,\n",
       " 'Religion: No religion': 5,\n",
       " 'Religion: Other Christian (including Christian related)': 3,\n",
       " 'Religion: Other religions': 0,\n",
       " 'Religion: Presbyterian Church in Ireland': 31,\n",
       " 'Religion: Religion not stated': 10,\n",
       " 'SA Code': 'N00001640'}"
      ]
     },
     "execution_count": 225,
     "metadata": {},
     "output_type": "execute_result"
    }
   ],
   "source": [
    "religionData_1991[1000]"
   ]
  },
  {
   "cell_type": "code",
   "execution_count": 205,
   "metadata": {},
   "outputs": [],
   "source": [
    "found = 0\n",
    "missed = 0\n",
    "for row in grid2OA:\n",
    "    gridIdx = row['Grid718191']\n",
    "    matched = False\n",
    "    for val in data_1991:        \n",
    "        if gridIdx == val['GRID']:\n",
    "            matched = True\n",
    "            break\n",
    "    if matched:\n",
    "        found += 1\n",
    "    else:\n",
    "        missed += 1 "
   ]
  },
  {
   "cell_type": "code",
   "execution_count": 206,
   "metadata": {},
   "outputs": [
    {
     "data": {
      "text/plain": [
       "7128"
      ]
     },
     "execution_count": 206,
     "metadata": {},
     "output_type": "execute_result"
    }
   ],
   "source": [
    "missed"
   ]
  },
  {
   "cell_type": "code",
   "execution_count": 226,
   "metadata": {},
   "outputs": [
    {
     "data": {
      "text/plain": [
       "18630"
      ]
     },
     "execution_count": 226,
     "metadata": {},
     "output_type": "execute_result"
    }
   ],
   "source": [
    "found"
   ]
  },
  {
   "cell_type": "code",
   "execution_count": 229,
   "metadata": {},
   "outputs": [
    {
     "name": "stdout",
     "output_type": "stream",
     "text": [
      "997\n"
     ]
    }
   ],
   "source": [
    "points_1991 = []\n",
    "for row in religionData_1991:\n",
    "    sa = row['SA Code']\n",
    "    featureIdx = belfastSa2Idx[sa]\n",
    "    geom = belfastGeoJSON[\"features\"][featureIdx]['geometry']\n",
    "    total = row['All usual residents']\n",
    "    totals = 0\n",
    "    for k in religions.keys():\n",
    "        currentTotal = 0\n",
    "        for i in religions[k]:\n",
    "            currentTotal += row[i]\n",
    "        for i in range(currentTotal):\n",
    "            point = []\n",
    "            point += LonLatToPixelXY(RandomPointFromPolygon(geom))\n",
    "            point.append(religion2Idx[k])\n",
    "            points_1991.append(point)\n",
    "        totals += currentTotal        \n",
    "    if total != totals:\n",
    "        mis += 1\n",
    "print mis        "
   ]
  },
  {
   "cell_type": "code",
   "execution_count": 230,
   "metadata": {},
   "outputs": [
    {
     "data": {
      "text/plain": [
       "261815"
      ]
     },
     "execution_count": 230,
     "metadata": {},
     "output_type": "execute_result"
    }
   ],
   "source": [
    "len(points_1991)"
   ]
  },
  {
   "cell_type": "code",
   "execution_count": 231,
   "metadata": {
    "collapsed": true
   },
   "outputs": [],
   "source": [
    "shuffle(points_1991)\n",
    "points = []\n",
    "for sublist in points_1991:\n",
    "    for item in sublist:\n",
    "        points.append(item)\n",
    "array.array('f', points).tofile(open('dotmap-1991.bin', 'wb'))"
   ]
  },
  {
   "cell_type": "code",
   "execution_count": 233,
   "metadata": {},
   "outputs": [
    {
     "name": "stdout",
     "output_type": "stream",
     "text": [
      "997\n"
     ]
    }
   ],
   "source": [
    "data_1981 = []\n",
    "with open(\"1981oth100m.csv\") as csvfile:\n",
    "    reader = csv.DictReader(csvfile)\n",
    "    for row in reader:\n",
    "        data_1981.append(row)\n",
    "    \n",
    "\n",
    "# 1971 and 1981\n",
    "\n",
    "grid2religion_1981 = {}\n",
    "for row in data_1981:\n",
    "    gridIdx = row['GRID']\n",
    "    totalCatholic = int(row['V783_81']) + int(row['V784_81'])\n",
    "    totalPresbyterian = int(row['V785_81']) + int(row['V786_81'])\n",
    "    totalCoI = int(row['V787_81']) + int(row['V788_81'])\n",
    "    totalMethodist = int(row['V789_81']) + int(row['V790_81'])\n",
    "    totalOther = int(row['V781_81']) + int(row['V792_81'])    \n",
    "    totalNotStated = int(row['V793_81']) + int(row['V794_81'])\n",
    "    grid2religion_1981[gridIdx] = {\n",
    "        'Catholic': max(0,totalCatholic),\n",
    "        'Church of Ireland': max(0,totalCoI),\n",
    "        'Methodist Church in Ireland': max(0,totalMethodist),\n",
    "        'Presbyterian Church in Ireland': max(0,totalPresbyterian),\n",
    "        'Other': max(0,totalOther),\n",
    "        'Religion not stated': max(0,totalNotStated)\n",
    "    }\n",
    "    \n",
    "\n",
    "religionData_1981 = []\n",
    "for row in lookupTableData:\n",
    "    data_1981 = {}\n",
    "    idx_2001 = row['COA2001_1']\n",
    "    data_1981['SA Code'] = row['SA2011']\n",
    "    data_1981['COA2001_1'] = idx_2001\n",
    "    totalCatholic = 0\n",
    "    totalPresbyterian = 0\n",
    "    totalCoI = 0\n",
    "    totalMethodist = 0\n",
    "    totalOther = 0 \n",
    "    totalNotStated = 0\n",
    "    totalNone = 0\n",
    "    if idx_2001 in oa2Grid718191:\n",
    "        for gridIdx in oa2Grid718191[idx_2001]:        \n",
    "            if gridIdx in grid2religion_1981:\n",
    "                totalCatholic += grid2religion_1981[gridIdx]['Catholic']\n",
    "                totalPresbyterian += grid2religion_1981[gridIdx]['Presbyterian Church in Ireland']\n",
    "                totalCoI += grid2religion_1981[gridIdx]['Church of Ireland']\n",
    "                totalMethodist += grid2religion_1981[gridIdx]['Methodist Church in Ireland']\n",
    "                totalOther += grid2religion_1981[gridIdx]['Other']\n",
    "                totalNotStated += grid2religion_1981[gridIdx]['Religion not stated']\n",
    "                \n",
    "    data_1981['All usual residents'] = totalCatholic + totalPresbyterian + totalCoI + totalMethodist + totalOther + totalNotStated \n",
    "    data_1981['Religion: Catholic'] = totalCatholic\n",
    "    data_1981['Religion: Church of Ireland'] = totalCoI\n",
    "    data_1981['Religion: Methodist Church in Ireland'] = totalMethodist\n",
    "    data_1981['Religion: Presbyterian Church in Ireland'] = totalPresbyterian\n",
    "    data_1981['Religion: Other Christian (including Christian related)'] = totalOther\n",
    "    data_1981['Religion: Other religions'] = 0\n",
    "    data_1981['Religion: No religion'] = totalNone\n",
    "    data_1981['Religion: Religion not stated'] = totalNotStated\n",
    "    religionData_1981.append(data_1981)\n",
    "\n",
    "points_1981 = []\n",
    "for row in religionData_1981:\n",
    "    sa = row['SA Code']\n",
    "    featureIdx = belfastSa2Idx[sa]\n",
    "    geom = belfastGeoJSON[\"features\"][featureIdx]['geometry']\n",
    "    total = row['All usual residents']\n",
    "    totals = 0\n",
    "    for k in religions.keys():\n",
    "        currentTotal = 0\n",
    "        for i in religions[k]:\n",
    "            currentTotal += row[i]\n",
    "        for i in range(currentTotal):\n",
    "            point = []\n",
    "            point += LonLatToPixelXY(RandomPointFromPolygon(geom))\n",
    "            point.append(religion2Idx[k])\n",
    "            points_1981.append(point)\n",
    "        totals += currentTotal        \n",
    "    if total != totals:\n",
    "        mis += 1\n",
    "print mis        \n",
    "\n",
    "shuffle(points_1981)\n",
    "points = []\n",
    "for sublist in points_1981:\n",
    "    for item in sublist:\n",
    "        points.append(item)\n",
    "array.array('f', points).tofile(open('dotmap-1981.bin', 'wb'))\n"
   ]
  },
  {
   "cell_type": "code",
   "execution_count": 234,
   "metadata": {},
   "outputs": [
    {
     "data": {
      "text/plain": [
       "272125"
      ]
     },
     "execution_count": 234,
     "metadata": {},
     "output_type": "execute_result"
    }
   ],
   "source": [
    "len(points_1981)"
   ]
  },
  {
   "cell_type": "code",
   "execution_count": 236,
   "metadata": {},
   "outputs": [
    {
     "name": "stdout",
     "output_type": "stream",
     "text": [
      "997\n"
     ]
    }
   ],
   "source": [
    "data_1971 = []\n",
    "with open(\"1971oth100m.csv\") as csvfile:\n",
    "    reader = csv.DictReader(csvfile)\n",
    "    for row in reader:\n",
    "        data_1971.append(row)\n",
    "    \n",
    "\n",
    "# 1971 and 1971\n",
    "\n",
    "grid2religion_1971 = {}\n",
    "for row in data_1971:\n",
    "    gridIdx = row['GRID']\n",
    "    totalCatholic = int(row['V783_71']) + int(row['V784_71'])\n",
    "    totalPresbyterian = int(row['V785_71']) + int(row['V786_71'])\n",
    "    totalCoI = int(row['V787_71']) + int(row['V788_71'])\n",
    "    totalMethodist = int(row['V789_71']) + int(row['V790_71'])\n",
    "    totalOther = int(row['V771_71']) + int(row['V792_71'])    \n",
    "    totalNotStated = int(row['V793_71']) + int(row['V794_71'])\n",
    "    grid2religion_1971[gridIdx] = {\n",
    "        'Catholic': max(0,totalCatholic),\n",
    "        'Church of Ireland': max(0,totalCoI),\n",
    "        'Methodist Church in Ireland': max(0,totalMethodist),\n",
    "        'Presbyterian Church in Ireland': max(0,totalPresbyterian),\n",
    "        'Other': max(0,totalOther),\n",
    "        'Religion not stated': max(0,totalNotStated)\n",
    "    }\n",
    "\n",
    "\n",
    "religionData_1971 = []\n",
    "for row in lookupTableData:\n",
    "    data_1971 = {}\n",
    "    idx_2001 = row['COA2001_1']\n",
    "    data_1971['SA Code'] = row['SA2011']\n",
    "    data_1971['COA2001_1'] = idx_2001\n",
    "    totalCatholic = 0\n",
    "    totalPresbyterian = 0\n",
    "    totalCoI = 0\n",
    "    totalMethodist = 0\n",
    "    totalOther = 0 \n",
    "    totalNotStated = 0\n",
    "    totalNone = 0\n",
    "    if idx_2001 in oa2Grid718191:\n",
    "        for gridIdx in oa2Grid718191[idx_2001]:        \n",
    "            if gridIdx in grid2religion_1971:\n",
    "                totalCatholic += grid2religion_1971[gridIdx]['Catholic']\n",
    "                totalPresbyterian += grid2religion_1971[gridIdx]['Presbyterian Church in Ireland']\n",
    "                totalCoI += grid2religion_1971[gridIdx]['Church of Ireland']\n",
    "                totalMethodist += grid2religion_1971[gridIdx]['Methodist Church in Ireland']\n",
    "                totalOther += grid2religion_1971[gridIdx]['Other']\n",
    "                totalNotStated += grid2religion_1971[gridIdx]['Religion not stated']\n",
    "                \n",
    "    data_1971['All usual residents'] = totalCatholic + totalPresbyterian + totalCoI + totalMethodist + totalOther + totalNotStated \n",
    "    data_1971['Religion: Catholic'] = totalCatholic\n",
    "    data_1971['Religion: Church of Ireland'] = totalCoI\n",
    "    data_1971['Religion: Methodist Church in Ireland'] = totalMethodist\n",
    "    data_1971['Religion: Presbyterian Church in Ireland'] = totalPresbyterian\n",
    "    data_1971['Religion: Other Christian (including Christian related)'] = totalOther\n",
    "    data_1971['Religion: Other religions'] = 0\n",
    "    data_1971['Religion: No religion'] = totalNone\n",
    "    data_1971['Religion: Religion not stated'] = totalNotStated\n",
    "    religionData_1971.append(data_1971)\n",
    "\n",
    "points_1971 = []\n",
    "for row in religionData_1971:\n",
    "    sa = row['SA Code']\n",
    "    featureIdx = belfastSa2Idx[sa]\n",
    "    geom = belfastGeoJSON[\"features\"][featureIdx]['geometry']\n",
    "    total = row['All usual residents']\n",
    "    totals = 0\n",
    "    for k in religions.keys():\n",
    "        currentTotal = 0\n",
    "        for i in religions[k]:\n",
    "            currentTotal += row[i]\n",
    "        for i in range(currentTotal):\n",
    "            point = []\n",
    "            point += LonLatToPixelXY(RandomPointFromPolygon(geom))\n",
    "            point.append(religion2Idx[k])\n",
    "            points_1971.append(point)\n",
    "        totals += currentTotal        \n",
    "    if total != totals:\n",
    "        mis += 1\n",
    "print mis        \n",
    "\n",
    "shuffle(points_1971)\n",
    "points = []\n",
    "for sublist in points_1971:\n",
    "    for item in sublist:\n",
    "        points.append(item)\n",
    "array.array('f', points).tofile(open('dotmap-1971.bin', 'wb'))\n",
    "\n"
   ]
  },
  {
   "cell_type": "code",
   "execution_count": 237,
   "metadata": {},
   "outputs": [
    {
     "data": {
      "text/plain": [
       "362403"
      ]
     },
     "execution_count": 237,
     "metadata": {},
     "output_type": "execute_result"
    }
   ],
   "source": [
    "len(points_1971)"
   ]
  },
  {
   "cell_type": "code",
   "execution_count": null,
   "metadata": {
    "collapsed": true
   },
   "outputs": [],
   "source": []
  }
 ],
 "metadata": {
  "kernelspec": {
   "display_name": "Python 2",
   "language": "python",
   "name": "python2"
  },
  "language_info": {
   "codemirror_mode": {
    "name": "ipython",
    "version": 2
   },
   "file_extension": ".py",
   "mimetype": "text/x-python",
   "name": "python",
   "nbconvert_exporter": "python",
   "pygments_lexer": "ipython2",
   "version": "2.7.13"
  }
 },
 "nbformat": 4,
 "nbformat_minor": 2
}
