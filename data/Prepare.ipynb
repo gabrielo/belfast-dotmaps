{
 "cells": [
  {
   "cell_type": "code",
   "execution_count": 78,
   "metadata": {},
   "outputs": [],
   "source": [
    "import array, csv, json, math\n",
    "from osgeo import ogr\n",
    "from random import shuffle, uniform\n",
    "from shapely.geometry import shape, Point\n",
    "\n",
    "def LonLatToPixelXY(lonlat):\n",
    "    (lon, lat) = lonlat\n",
    "    x = (lon + 180.0) * 256.0 / 360.0\n",
    "    y = 128.0 - math.log(math.tan((lat + 90.0) * math.pi / 360.0)) * 128.0 / math.pi\n",
    "    return [x, y]\n",
    "\n",
    "def RandomPointFromPolygon(geom):\n",
    "    polygon = shape(geom)\n",
    "    bbox = polygon.bounds\n",
    "    l,b,r,t = bbox\n",
    "    while True:\n",
    "        point = Point(uniform(l,r),uniform(t,b))\n",
    "        if point is None:\n",
    "            break\n",
    "        if polygon.contains(point):\n",
    "            break\n",
    "    return point.__geo_interface__['coordinates']"
   ]
  },
  {
   "cell_type": "code",
   "execution_count": null,
   "metadata": {
    "collapsed": true
   },
   "outputs": [],
   "source": [
    "# Transform NI Small Areas shapefile into GeoJSON\n",
    "cmd = \"ogr2ogr -f GeoJSON -t_srs crs:84 SA2011/SA2011.geojson SA2011/SA2011.shp\"\n",
    "!$cmd"
   ]
  },
  {
   "cell_type": "code",
   "execution_count": 7,
   "metadata": {
    "collapsed": true
   },
   "outputs": [],
   "source": [
    "# Load small areas GeoJSON file\n",
    "with open(\"SA2011/SA2011.geojson\") as f:\n",
    "    sa2011 = json.load(f)"
   ]
  },
  {
   "cell_type": "code",
   "execution_count": 8,
   "metadata": {},
   "outputs": [],
   "source": [
    "#sa2011['features'][0]['properties']\n",
    "#{u'Hectares': 169.044,\n",
    "# u'SA2011': u'N00000002',\n",
    "# u'SOA2011': u'95AA01S2',\n",
    "# u'X_COORD': 315465.0,\n",
    "# u'Y_COORD': 377176.0}"
   ]
  },
  {
   "cell_type": "code",
   "execution_count": 9,
   "metadata": {},
   "outputs": [],
   "source": [
    "belfastData = []\n",
    "with open(\"Geographic Data (statistical geographies).ods - SA.csv\") as csvfile:\n",
    "    reader = csv.DictReader(csvfile)\n",
    "    for row in reader:\n",
    "        if row['HSCT'] == \"Belfast HSCT\":\n",
    "            belfastData.append(row)"
   ]
  },
  {
   "cell_type": "code",
   "execution_count": 10,
   "metadata": {},
   "outputs": [],
   "source": [
    "#belfastData[0]\n",
    "#{'AA1998': 'BELFAST WEST',\n",
    "# 'AA2008': 'BELFAST WEST',\n",
    "# 'HSCT': 'Belfast HSCT',\n",
    "# 'LGD1992NAME': 'BELFAST',\n",
    "# 'SA': 'N00000825',\n",
    "# 'SOA': '95GG01S1',\n",
    "# 'SQ Km': '0.11',\n",
    "# 'Settlement2015(1)': 'BELFAST CITY',\n",
    "# 'Settlement2015(2)': '',\n",
    "# 'Settlement2015(3)': '',\n",
    "# 'URBAN_RURAL(2015)': 'Urban',\n",
    "# 'WARD1992': 'ANDERSONSTOWN'}"
   ]
  },
  {
   "cell_type": "code",
   "execution_count": 11,
   "metadata": {},
   "outputs": [],
   "source": [
    "belfastGeoJSON = { \n",
    "    \"type\": \"FeatureCollection\",\n",
    "    \"features\": []\n",
    "}\n",
    "for row in belfastData:\n",
    "    sa = row['SA']\n",
    "    for feature in sa2011['features']:\n",
    "        if feature['properties']['SA2011'] == sa:\n",
    "            for key in row.keys():\n",
    "                feature['properties'][key] = row[key]\n",
    "            belfastGeoJSON['features'].append(feature)\n",
    "            break\n",
    "with open('belfast.geojson', 'w') as outfile:  \n",
    "    json.dump(belfastGeoJSON, outfile, indent=4)"
   ]
  },
  {
   "cell_type": "code",
   "execution_count": 12,
   "metadata": {},
   "outputs": [
    {
     "data": {
      "text/plain": [
       "1008"
      ]
     },
     "execution_count": 12,
     "metadata": {},
     "output_type": "execute_result"
    }
   ],
   "source": [
    "belfastSa2Idx = {}\n",
    "for i in range(0,len(belfastGeoJSON[\"features\"])):\n",
    "    feature = belfastGeoJSON[\"features\"][i]\n",
    "    sa = feature['properties']['SA']\n",
    "    belfastSa2Idx[sa] = i\n",
    "len(belfastSa2Idx)"
   ]
  },
  {
   "cell_type": "code",
   "execution_count": 13,
   "metadata": {},
   "outputs": [
    {
     "data": {
      "text/plain": [
       "1008"
      ]
     },
     "execution_count": 13,
     "metadata": {},
     "output_type": "execute_result"
    }
   ],
   "source": [
    "religionData = []\n",
    "with open(\"_KS211NI (s).ods - SA.csv\") as csvfile:\n",
    "    reader = csv.DictReader(csvfile)\n",
    "    for row in reader:\n",
    "        if row['SA Code'] in belfastSa2Idx:\n",
    "            religionData.append(row)\n",
    "len(religionData)"
   ]
  },
  {
   "cell_type": "code",
   "execution_count": 14,
   "metadata": {},
   "outputs": [],
   "source": [
    "#religionData[0]\n",
    "#{'All usual residents': '367',\n",
    "# 'Religion: Catholic': '320',\n",
    "# 'Religion: Catholic (%)': '87.19',\n",
    "# 'Religion: Church of Ireland': '0',\n",
    "# 'Religion: Church of Ireland (%)': '0.00',\n",
    "# 'Religion: Methodist Church in Ireland': '0',\n",
    "# 'Religion: Methodist Church in Ireland (%)': '0.00',\n",
    "# 'Religion: No religion': '15',\n",
    "# 'Religion: No religion (%)': '4.09',\n",
    "# 'Religion: Other Christian (including Christian related)': '3',\n",
    "# 'Religion: Other Christian (including Christian related) (%)': '0.82',\n",
    "# 'Religion: Other religions': '0',\n",
    "# 'Religion: Other religions (%)': '0.00',\n",
    "# 'Religion: Presbyterian Church in Ireland': '2',\n",
    "# 'Religion: Presbyterian Church in Ireland (%)': '0.54',\n",
    "# 'Religion: Religion not stated': '27',\n",
    "# 'Religion: Religion not stated (%)': '7.36',\n",
    "# 'SA': 'N00000825 (Andersonstown ward)',\n",
    "# 'SA Code': 'N00000825'}"
   ]
  },
  {
   "cell_type": "code",
   "execution_count": 47,
   "metadata": {
    "collapsed": true
   },
   "outputs": [],
   "source": [
    "romanCatholic = ['Religion: Catholic']\n",
    "presbyterian = ['Religion: Presbyterian Church in Ireland']\n",
    "churchOfIreland = ['Religion: Church of Ireland']\n",
    "methodist = ['Religion: Methodist Church in Ireland']\n",
    "other = ['Religion: No religion', 'Religion: Other Christian (including Christian related)', \n",
    "         'Religion: Other religions', 'Religion: Religion not stated']\n",
    "\n",
    "religions = {\n",
    "    'romanCatholic':romanCatholic, \n",
    "    'presbyterian': presbyterian, \n",
    "    'churchOfIreland': churchOfIreland, \n",
    "    'methodist': methodist, \n",
    "    'other': other}\n",
    "\n",
    "religion2Idx = {\n",
    "    'romanCatholic': 1.0, \n",
    "    'presbyterian': 2.0, \n",
    "    'churchOfIreland': 3.0, \n",
    "    'methodist': 4.0, \n",
    "    'other': 5.0\n",
    "}"
   ]
  },
  {
   "cell_type": "code",
   "execution_count": 32,
   "metadata": {},
   "outputs": [
    {
     "data": {
      "text/plain": [
       "[123.73697328436603, 81.50378179192757]"
      ]
     },
     "execution_count": 32,
     "metadata": {},
     "output_type": "execute_result"
    }
   ],
   "source": [
    "geom = belfastGeoJSON[\"features\"][0][\"geometry\"]\n",
    "p = RandomPointFromPolygon(geom)\n",
    "LonLatToPixelXY(p)"
   ]
  },
  {
   "cell_type": "code",
   "execution_count": 62,
   "metadata": {},
   "outputs": [],
   "source": [
    "points_2011 = []\n",
    "for row in religionData:\n",
    "    sa = row['SA Code']\n",
    "    featureIdx = belfastSa2Idx[sa]\n",
    "    geom = belfastGeoJSON[\"features\"][featureIdx]['geometry']\n",
    "    total = int(row['All usual residents'].replace(',', ''))\n",
    "    totals = 0\n",
    "    for k in religions.keys():\n",
    "        currentTotal = 0\n",
    "        for i in religions[k]:\n",
    "            currentTotal += int(row[i].replace(',',''))\n",
    "        for i in range(currentTotal):\n",
    "            point = []\n",
    "            point += LonLatToPixelXY(RandomPointFromPolygon(geom))\n",
    "            point.append(religion2Idx[k])\n",
    "            points_2011.append(point)\n",
    "        totals += currentTotal        \n",
    "    if total != totals:\n",
    "        mis += 1\n",
    "        print mis        "
   ]
  },
  {
   "cell_type": "code",
   "execution_count": 63,
   "metadata": {},
   "outputs": [
    {
     "data": {
      "text/plain": [
       "348204"
      ]
     },
     "execution_count": 63,
     "metadata": {},
     "output_type": "execute_result"
    }
   ],
   "source": [
    "len(points_2011)"
   ]
  },
  {
   "cell_type": "code",
   "execution_count": 72,
   "metadata": {},
   "outputs": [],
   "source": [
    "shuffle(points_2011)"
   ]
  },
  {
   "cell_type": "code",
   "execution_count": 74,
   "metadata": {},
   "outputs": [],
   "source": [
    "points = []\n",
    "for sublist in points_2011:\n",
    "    for item in sublist:\n",
    "        points.append(item)\n",
    "array.array('f', points).tofile(open('dotmap-2011.bin', 'wb'))"
   ]
  },
  {
   "cell_type": "code",
   "execution_count": 79,
   "metadata": {},
   "outputs": [
    {
     "data": {
      "text/plain": [
       "1008"
      ]
     },
     "execution_count": 79,
     "metadata": {},
     "output_type": "execute_result"
    }
   ],
   "source": [
    "lookupTableData = []\n",
    "with open(\"Look-up Tables_0.xlsx - SA2011.csv\") as csvfile:\n",
    "    reader = csv.DictReader(csvfile)\n",
    "    for row in reader:\n",
    "        if row['SA2011'] in belfastSa2Idx:\n",
    "            lookupTableData.append(row)\n",
    "len(lookupTableData)    "
   ]
  },
  {
   "cell_type": "code",
   "execution_count": 81,
   "metadata": {},
   "outputs": [],
   "source": [
    "#lookupTableData[0]\n",
    "#{'COA2001_1': '95GG010001',\n",
    "#'COA2001_2': '',\n",
    "# 'COA2001_3': '',\n",
    "# 'COA2001_4': '',\n",
    "# 'SA2011': 'N00000825',\n",
    "# 'SA2011NAME': 'N00000825 (Andersonstown ward)',\n",
    "# 'SOA2001': '95GG01S1',\n",
    "# 'SOANAME': 'Andersonstown_1'}"
   ]
  },
  {
   "cell_type": "code",
   "execution_count": 85,
   "metadata": {
    "collapsed": true
   },
   "outputs": [],
   "source": [
    "raw_2001 = []\n",
    "with open(\"2001/oa/TABLE CAS308 (OA).csv\") as csvfile:\n",
    "    reader = csv.reader(csvfile)\n",
    "    for row in reader:\n",
    "        raw_2001.append(row)\n"
   ]
  },
  {
   "cell_type": "code",
   "execution_count": 121,
   "metadata": {},
   "outputs": [],
   "source": [
    "religionDataIdx_2001 = {}\n",
    "\n",
    "for row in lookupTableData:\n",
    "    idx_2001 = row['COA2001_1']\n",
    "    religionDataIdx_2001[idx_2001] = []\n",
    "    for raw_row in raw_2001:\n",
    "        if len(raw_row) == 3:\n",
    "            raw_idx = raw_row[0].strip()\n",
    "            raw_key = raw_row[1]\n",
    "            raw_value = raw_row[2]\n",
    "            if raw_value == \"-\":\n",
    "                raw_value = '0'\n",
    "            if raw_idx == idx_2001:\n",
    "                religionDataIdx_2001[idx_2001].append({raw_key: raw_value})\n",
    "            "
   ]
  },
  {
   "cell_type": "code",
   "execution_count": 124,
   "metadata": {},
   "outputs": [],
   "source": [
    "religionData_2001 = []\n",
    "for row in lookupTableData:\n",
    "    data_2001 = {}\n",
    "    idx_2001 = row['COA2001_1']\n",
    "    data_2001['SA Code'] = row['SA2011']\n",
    "    data_2001['COA2001_1'] = idx_2001\n",
    "    data_2001['All usual residents'] = religionDataIdx_2001[idx_2001][0]['All persons']\n",
    "    data_2001['Religion: Catholic'] = religionDataIdx_2001[idx_2001][2]['Catholic']\n",
    "    data_2001['Religion: Church of Ireland'] = religionDataIdx_2001[idx_2001][4]['Church of Ireland']\n",
    "    data_2001['Religion: Methodist Church in Ireland'] = religionDataIdx_2001[idx_2001][5]['Methodist Church in Ireland']\n",
    "    data_2001['Religion: Presbyterian Church in Ireland'] = religionDataIdx_2001[idx_2001][3]['Presbyterian Church in Ireland']\n",
    "    data_2001['Religion: Other Christian (including Christian related)'] = religionDataIdx_2001[idx_2001][6]['Other Christian (including Christian related)']\n",
    "    data_2001['Religion: Other religions'] = religionDataIdx_2001[idx_2001][7]['Other religions and philosophies']\n",
    "    data_2001['Religion: No religion'] = religionDataIdx_2001[idx_2001][8]['No religion or religion not stated']\n",
    "    data_2001['Religion: Religion not stated'] = '0'\n",
    "    religionData_2001.append(data_2001)\n",
    "    \n",
    "    "
   ]
  },
  {
   "cell_type": "code",
   "execution_count": 125,
   "metadata": {},
   "outputs": [
    {
     "data": {
      "text/plain": [
       "{'All usual residents': '432',\n",
       " 'COA2001_1': '95GG010001',\n",
       " 'Religion: Catholic': '411',\n",
       " 'Religion: Church of Ireland': '3',\n",
       " 'Religion: Methodist Church in Ireland': '0',\n",
       " 'Religion: No religion': '18',\n",
       " 'Religion: Other Christian (including Christian related)': '0',\n",
       " 'Religion: Other religions': '0',\n",
       " 'Religion: Presbyterian Church in Ireland': '0',\n",
       " 'Religion: Religion not stated': '0',\n",
       " 'SA Code': 'N00000825'}"
      ]
     },
     "execution_count": 125,
     "metadata": {},
     "output_type": "execute_result"
    }
   ],
   "source": [
    "religionData_2001[0]"
   ]
  },
  {
   "cell_type": "code",
   "execution_count": 117,
   "metadata": {},
   "outputs": [
    {
     "data": {
      "text/plain": [
       "[{'All persons': '415'},\n",
       " {'': '*'},\n",
       " {'Catholic': '393'},\n",
       " {'Presbyterian Church in Ireland': 0},\n",
       " {'Church of Ireland': 0},\n",
       " {'Methodist Church in Ireland': 0},\n",
       " {'Other Christian (including Christian related)': 0},\n",
       " {'Other religions and philosophies': 0},\n",
       " {'No religion or religion not stated': '22'}]"
      ]
     },
     "execution_count": 117,
     "metadata": {},
     "output_type": "execute_result"
    }
   ],
   "source": [
    "religionDataIdx_2001['95GG010002']"
   ]
  },
  {
   "cell_type": "code",
   "execution_count": 115,
   "metadata": {},
   "outputs": [
    {
     "data": {
      "text/plain": [
       "{'COA2001_1': '95GG010001', 'SA Code': 'N00000825'}"
      ]
     },
     "execution_count": 115,
     "metadata": {},
     "output_type": "execute_result"
    }
   ],
   "source": [
    "data_2001"
   ]
  },
  {
   "cell_type": "code",
   "execution_count": 126,
   "metadata": {},
   "outputs": [
    {
     "data": {
      "text/plain": [
       "[{'All persons': '294'},\n",
       " {'': '*'},\n",
       " {'Catholic': '130'},\n",
       " {'Presbyterian Church in Ireland': '43'},\n",
       " {'Church of Ireland': '27'},\n",
       " {'Methodist Church in Ireland': '26'},\n",
       " {'Other Christian (including Christian related)': '13'},\n",
       " {'Other religions and philosophies': '0'},\n",
       " {'No religion or religion not stated': '55'}]"
      ]
     },
     "execution_count": 126,
     "metadata": {},
     "output_type": "execute_result"
    }
   ],
   "source": [
    "religionDataIdx_2001[idx_2001]"
   ]
  },
  {
   "cell_type": "code",
   "execution_count": 127,
   "metadata": {},
   "outputs": [],
   "source": [
    "points_2001 = []\n",
    "for row in religionData_2001:\n",
    "    sa = row['SA Code']\n",
    "    featureIdx = belfastSa2Idx[sa]\n",
    "    geom = belfastGeoJSON[\"features\"][featureIdx]['geometry']\n",
    "    total = int(row['All usual residents'].replace(',', ''))\n",
    "    totals = 0\n",
    "    for k in religions.keys():\n",
    "        currentTotal = 0\n",
    "        for i in religions[k]:\n",
    "            currentTotal += int(row[i].replace(',',''))\n",
    "        for i in range(currentTotal):\n",
    "            point = []\n",
    "            point += LonLatToPixelXY(RandomPointFromPolygon(geom))\n",
    "            point.append(religion2Idx[k])\n",
    "            points_2001.append(point)\n",
    "        totals += currentTotal        \n",
    "    if total != totals:\n",
    "        mis += 1\n",
    "        print mis        "
   ]
  },
  {
   "cell_type": "code",
   "execution_count": 128,
   "metadata": {},
   "outputs": [
    {
     "data": {
      "text/plain": [
       "309518"
      ]
     },
     "execution_count": 128,
     "metadata": {},
     "output_type": "execute_result"
    }
   ],
   "source": [
    "len(points_2001)"
   ]
  },
  {
   "cell_type": "code",
   "execution_count": 129,
   "metadata": {
    "collapsed": true
   },
   "outputs": [],
   "source": [
    "shuffle(points_2001)"
   ]
  },
  {
   "cell_type": "code",
   "execution_count": 130,
   "metadata": {
    "collapsed": true
   },
   "outputs": [],
   "source": [
    "points = []\n",
    "for sublist in points_2001:\n",
    "    for item in sublist:\n",
    "        points.append(item)\n",
    "array.array('f', points).tofile(open('dotmap-2001.bin', 'wb'))"
   ]
  },
  {
   "cell_type": "code",
   "execution_count": null,
   "metadata": {
    "collapsed": true
   },
   "outputs": [],
   "source": []
  }
 ],
 "metadata": {
  "kernelspec": {
   "display_name": "Python 2",
   "language": "python",
   "name": "python2"
  },
  "language_info": {
   "codemirror_mode": {
    "name": "ipython",
    "version": 2
   },
   "file_extension": ".py",
   "mimetype": "text/x-python",
   "name": "python",
   "nbconvert_exporter": "python",
   "pygments_lexer": "ipython2",
   "version": "2.7.13"
  }
 },
 "nbformat": 4,
 "nbformat_minor": 2
}
