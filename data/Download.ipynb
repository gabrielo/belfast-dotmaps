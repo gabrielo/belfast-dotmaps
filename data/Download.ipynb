{
 "cells": [
  {
   "cell_type": "code",
   "execution_count": null,
   "metadata": {
    "collapsed": true
   },
   "outputs": [],
   "source": [
    "# Download and extract Northern Ireland Small Areas 2011 Census Shapefile\n",
    "# https://www.nisra.gov.uk/support/geography/northern-ireland-small-areas\n",
    "cmd = \"wget https://www.nisra.gov.uk/sites/nisra.gov.uk/files/publications/SA2011_Esri_Shapefile_0.zip\"\n",
    "!$cmd\n",
    "cmd = \"unzip SA2011_Esri_Shapefile_0.zip -d SA2011\"\n",
    "!$cmd"
   ]
  },
  {
   "cell_type": "code",
   "execution_count": null,
   "metadata": {},
   "outputs": [],
   "source": [
    "# Download lookup tables for Super Output Areas, Wards, LGD1992s and Parliamentary Constituencies\n",
    "cmd = \"wget http://www.ninis2.nisra.gov.uk/Download/People%20and%20Places/Geographic%20Data%20\\(statistical%20geographies\\).ods\"\n",
    "!$cmd\n",
    "# Import ods file into Google Sheets and export as needed to csv\n",
    "# Edit csv file to remove extra header content"
   ]
  },
  {
   "cell_type": "code",
   "execution_count": null,
   "metadata": {
    "collapsed": true
   },
   "outputs": [],
   "source": [
    "# Download 2011 Religion statistics for small areas\n",
    "cmd = \"wget http://www.ninis2.nisra.gov.uk/Download/Census%202011/_KS211NI%20(s).ods\"\n",
    "!$cmd \n",
    "# Import ods file into Google Sheets and export as needed to csv\n",
    "# Edit csv file to remove extra header content"
   ]
  },
  {
   "cell_type": "code",
   "execution_count": null,
   "metadata": {},
   "outputs": [],
   "source": [
    "# Download 2001 census data for output areasand unzip data\n",
    "cmd = \"wget http://www.ninis2.nisra.gov.uk/Download/Census%202001/Census%20Area%20Statistics%20Tables%20\\(statistical%20geographies\\)%20\\(52%20MB\\).zip\"\n",
    "!$cmd\n",
    "cmd = \"unzip Census\\ Area\\ Statistics\\ Tables\\ \\(statistical\\ geographies\\)\\ \\(52\\ MB\\).zip -d 2001\"\n",
    "!$cmd\n",
    "cmd = \"unzip 2001/CAS\\ Tables\\ -\\ Northern\\ Ireland.zip -d 2001/tables\"\n",
    "!$cmd\n",
    "cmd = \"unzip 2001/CAS\\ Tables\\ -\\ Output\\ Area.zip -d 2001/oa\"\n",
    "!$cmd"
   ]
  },
  {
   "cell_type": "code",
   "execution_count": null,
   "metadata": {},
   "outputs": [],
   "source": [
    "# Download lookup tables for 2001 census\n",
    "cmd = \"wget https://www.nisra.gov.uk/sites/nisra.gov.uk/files/publications/Look-up%20Tables_0.xlsx\"\n",
    "!$cmd\n",
    "# Import xlsx into Google Sheets and export as needed to csv\n",
    "# Edit csv file to remove extra header content"
   ]
  },
  {
   "cell_type": "code",
   "execution_count": null,
   "metadata": {
    "collapsed": true
   },
   "outputs": [],
   "source": [
    "# Download 1991 Census results for religion\n",
    "cmd = \"wget https://www.nisra.gov.uk/sites/nisra.gov.uk/files/publications/1991-census-table-religion-and-gender-by-area_0.csv\"\n",
    "!$cmd\n",
    "# Hand edit and create belfast-1991.csv\n"
   ]
  }
 ],
 "metadata": {
  "kernelspec": {
   "display_name": "Python 2",
   "language": "python",
   "name": "python2"
  },
  "language_info": {
   "codemirror_mode": {
    "name": "ipython",
    "version": 2
   },
   "file_extension": ".py",
   "mimetype": "text/x-python",
   "name": "python",
   "nbconvert_exporter": "python",
   "pygments_lexer": "ipython2",
   "version": "2.7.13"
  }
 },
 "nbformat": 4,
 "nbformat_minor": 2
}
